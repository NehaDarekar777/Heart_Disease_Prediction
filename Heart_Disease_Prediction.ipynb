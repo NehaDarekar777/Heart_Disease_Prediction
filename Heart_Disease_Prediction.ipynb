{
 "cells": [
  {
   "cell_type": "markdown",
   "id": "917a4f70",
   "metadata": {},
   "source": [
    "## Heart Disease Prediction"
   ]
  },
  {
   "cell_type": "code",
   "execution_count": 1,
   "id": "c8db65c5",
   "metadata": {},
   "outputs": [],
   "source": [
    "import pandas as pd\n",
    "import numpy as np\n",
    "\n",
    "from statsmodels.stats.outliers_influence import variance_inflation_factor\n",
    "\n",
    "from sklearn.model_selection import train_test_split\n",
    "\n",
    "from sklearn.linear_model import LogisticRegression\n",
    "\n",
    "from sklearn.metrics import accuracy_score, confusion_matrix, classification_report\n",
    "\n",
    "from sklearn.metrics import roc_auc_score, roc_curve\n",
    "\n",
    "import matplotlib.pyplot as plt\n",
    "import seaborn as sns\n",
    "\n",
    "import warnings\n",
    "warnings.filterwarnings('ignore')"
   ]
  },
  {
   "cell_type": "markdown",
   "id": "42e75fd7",
   "metadata": {},
   "source": [
    "### 1. Problem Statement"
   ]
  },
  {
   "cell_type": "code",
   "execution_count": null,
   "id": "52d46c36",
   "metadata": {},
   "outputs": [],
   "source": [
    "Problem Statement:\n",
    "    To predict whether the patient has heart disease or not by using required features.\n",
    "    \n",
    "Features:\n",
    "    'age', 'sex', 'cp', 'trtbps', 'chol', 'fbs', 'restecg', 'thalachh',\n",
    "    'exng', 'oldpeak', 'slp', 'caa', 'thall'"
   ]
  },
  {
   "cell_type": "markdown",
   "id": "a61221ff",
   "metadata": {},
   "source": [
    "### 2. Data Gathering"
   ]
  },
  {
   "cell_type": "markdown",
   "id": "3fcb6478",
   "metadata": {},
   "source": [
    "#### Loading data "
   ]
  },
  {
   "cell_type": "code",
   "execution_count": 2,
   "id": "b96e35e0",
   "metadata": {},
   "outputs": [
    {
     "data": {
      "text/html": [
       "<div>\n",
       "<style scoped>\n",
       "    .dataframe tbody tr th:only-of-type {\n",
       "        vertical-align: middle;\n",
       "    }\n",
       "\n",
       "    .dataframe tbody tr th {\n",
       "        vertical-align: top;\n",
       "    }\n",
       "\n",
       "    .dataframe thead th {\n",
       "        text-align: right;\n",
       "    }\n",
       "</style>\n",
       "<table border=\"1\" class=\"dataframe\">\n",
       "  <thead>\n",
       "    <tr style=\"text-align: right;\">\n",
       "      <th></th>\n",
       "      <th>age</th>\n",
       "      <th>sex</th>\n",
       "      <th>cp</th>\n",
       "      <th>trtbps</th>\n",
       "      <th>chol</th>\n",
       "      <th>fbs</th>\n",
       "      <th>restecg</th>\n",
       "      <th>thalachh</th>\n",
       "      <th>exng</th>\n",
       "      <th>oldpeak</th>\n",
       "      <th>slp</th>\n",
       "      <th>caa</th>\n",
       "      <th>thall</th>\n",
       "      <th>output</th>\n",
       "    </tr>\n",
       "  </thead>\n",
       "  <tbody>\n",
       "    <tr>\n",
       "      <th>0</th>\n",
       "      <td>63</td>\n",
       "      <td>1</td>\n",
       "      <td>3</td>\n",
       "      <td>145</td>\n",
       "      <td>233</td>\n",
       "      <td>1</td>\n",
       "      <td>0</td>\n",
       "      <td>150</td>\n",
       "      <td>0</td>\n",
       "      <td>2.3</td>\n",
       "      <td>0</td>\n",
       "      <td>0</td>\n",
       "      <td>1</td>\n",
       "      <td>1</td>\n",
       "    </tr>\n",
       "    <tr>\n",
       "      <th>1</th>\n",
       "      <td>37</td>\n",
       "      <td>1</td>\n",
       "      <td>2</td>\n",
       "      <td>130</td>\n",
       "      <td>250</td>\n",
       "      <td>0</td>\n",
       "      <td>1</td>\n",
       "      <td>187</td>\n",
       "      <td>0</td>\n",
       "      <td>3.5</td>\n",
       "      <td>0</td>\n",
       "      <td>0</td>\n",
       "      <td>2</td>\n",
       "      <td>1</td>\n",
       "    </tr>\n",
       "    <tr>\n",
       "      <th>2</th>\n",
       "      <td>41</td>\n",
       "      <td>0</td>\n",
       "      <td>1</td>\n",
       "      <td>130</td>\n",
       "      <td>204</td>\n",
       "      <td>0</td>\n",
       "      <td>0</td>\n",
       "      <td>172</td>\n",
       "      <td>0</td>\n",
       "      <td>1.4</td>\n",
       "      <td>2</td>\n",
       "      <td>0</td>\n",
       "      <td>2</td>\n",
       "      <td>1</td>\n",
       "    </tr>\n",
       "    <tr>\n",
       "      <th>3</th>\n",
       "      <td>56</td>\n",
       "      <td>1</td>\n",
       "      <td>1</td>\n",
       "      <td>120</td>\n",
       "      <td>236</td>\n",
       "      <td>0</td>\n",
       "      <td>1</td>\n",
       "      <td>178</td>\n",
       "      <td>0</td>\n",
       "      <td>0.8</td>\n",
       "      <td>2</td>\n",
       "      <td>0</td>\n",
       "      <td>2</td>\n",
       "      <td>1</td>\n",
       "    </tr>\n",
       "    <tr>\n",
       "      <th>4</th>\n",
       "      <td>57</td>\n",
       "      <td>0</td>\n",
       "      <td>0</td>\n",
       "      <td>120</td>\n",
       "      <td>354</td>\n",
       "      <td>0</td>\n",
       "      <td>1</td>\n",
       "      <td>163</td>\n",
       "      <td>1</td>\n",
       "      <td>0.6</td>\n",
       "      <td>2</td>\n",
       "      <td>0</td>\n",
       "      <td>2</td>\n",
       "      <td>1</td>\n",
       "    </tr>\n",
       "  </tbody>\n",
       "</table>\n",
       "</div>"
      ],
      "text/plain": [
       "   age  sex  cp  trtbps  chol  fbs  restecg  thalachh  exng  oldpeak  slp  \\\n",
       "0   63    1   3     145   233    1        0       150     0      2.3    0   \n",
       "1   37    1   2     130   250    0        1       187     0      3.5    0   \n",
       "2   41    0   1     130   204    0        0       172     0      1.4    2   \n",
       "3   56    1   1     120   236    0        1       178     0      0.8    2   \n",
       "4   57    0   0     120   354    0        1       163     1      0.6    2   \n",
       "\n",
       "   caa  thall  output  \n",
       "0    0      1       1  \n",
       "1    0      2       1  \n",
       "2    0      2       1  \n",
       "3    0      2       1  \n",
       "4    0      2       1  "
      ]
     },
     "execution_count": 2,
     "metadata": {},
     "output_type": "execute_result"
    }
   ],
   "source": [
    "df = pd.read_csv('heart.csv')\n",
    "df.head()"
   ]
  },
  {
   "cell_type": "code",
   "execution_count": 3,
   "id": "3f380207",
   "metadata": {},
   "outputs": [
    {
     "data": {
      "text/plain": [
       "(303, 14)"
      ]
     },
     "execution_count": 3,
     "metadata": {},
     "output_type": "execute_result"
    }
   ],
   "source": [
    "# number of rows and columns in the dataset\n",
    "df.shape"
   ]
  },
  {
   "cell_type": "code",
   "execution_count": 4,
   "id": "663f519c",
   "metadata": {},
   "outputs": [
    {
     "data": {
      "text/plain": [
       "Index(['age', 'sex', 'cp', 'trtbps', 'chol', 'fbs', 'restecg', 'thalachh',\n",
       "       'exng', 'oldpeak', 'slp', 'caa', 'thall', 'output'],\n",
       "      dtype='object')"
      ]
     },
     "execution_count": 4,
     "metadata": {},
     "output_type": "execute_result"
    }
   ],
   "source": [
    "df.columns"
   ]
  },
  {
   "cell_type": "markdown",
   "id": "6c9c495c",
   "metadata": {},
   "source": [
    "### 3. Exploratory Data Analysis and Feature Engineering"
   ]
  },
  {
   "cell_type": "code",
   "execution_count": null,
   "id": "b1951ae1",
   "metadata": {},
   "outputs": [],
   "source": [
    "1. Missing values\n",
    "2. Outliers\n",
    "3. Encoding"
   ]
  },
  {
   "cell_type": "markdown",
   "id": "d9de557b",
   "metadata": {},
   "source": [
    "#### Dataset Information"
   ]
  },
  {
   "cell_type": "code",
   "execution_count": 8,
   "id": "4312be9f",
   "metadata": {},
   "outputs": [
    {
     "name": "stdout",
     "output_type": "stream",
     "text": [
      "<class 'pandas.core.frame.DataFrame'>\n",
      "Int64Index: 302 entries, 0 to 302\n",
      "Data columns (total 14 columns):\n",
      " #   Column    Non-Null Count  Dtype  \n",
      "---  ------    --------------  -----  \n",
      " 0   age       302 non-null    int64  \n",
      " 1   sex       302 non-null    int64  \n",
      " 2   cp        302 non-null    int64  \n",
      " 3   trtbps    302 non-null    int64  \n",
      " 4   chol      302 non-null    int64  \n",
      " 5   fbs       302 non-null    int64  \n",
      " 6   restecg   302 non-null    int64  \n",
      " 7   thalachh  302 non-null    int64  \n",
      " 8   exng      302 non-null    int64  \n",
      " 9   oldpeak   302 non-null    float64\n",
      " 10  slp       302 non-null    int64  \n",
      " 11  caa       302 non-null    int64  \n",
      " 12  thall     302 non-null    int64  \n",
      " 13  output    302 non-null    int64  \n",
      "dtypes: float64(1), int64(13)\n",
      "memory usage: 35.4 KB\n"
     ]
    }
   ],
   "source": [
    "# here we get all information about the data\n",
    "df.info()"
   ]
  },
  {
   "cell_type": "markdown",
   "id": "193705c0",
   "metadata": {},
   "source": [
    "### 1. Duplicate values"
   ]
  },
  {
   "cell_type": "code",
   "execution_count": 5,
   "id": "9fd2688a",
   "metadata": {},
   "outputs": [
    {
     "data": {
      "text/plain": [
       "1"
      ]
     },
     "execution_count": 5,
     "metadata": {},
     "output_type": "execute_result"
    }
   ],
   "source": [
    "# check duplicates\n",
    "df.duplicated().sum()"
   ]
  },
  {
   "cell_type": "markdown",
   "id": "7c0cbb78",
   "metadata": {},
   "source": [
    "#### Dataset holds the 1 duplicate entry"
   ]
  },
  {
   "cell_type": "code",
   "execution_count": 6,
   "id": "53b0304a",
   "metadata": {},
   "outputs": [],
   "source": [
    "# Drop duplicate entry\n",
    "df.drop_duplicates(inplace = True)"
   ]
  },
  {
   "cell_type": "code",
   "execution_count": 7,
   "id": "dfc63f75",
   "metadata": {},
   "outputs": [
    {
     "data": {
      "text/plain": [
       "(302, 14)"
      ]
     },
     "execution_count": 7,
     "metadata": {},
     "output_type": "execute_result"
    }
   ],
   "source": [
    "df.shape"
   ]
  },
  {
   "cell_type": "markdown",
   "id": "7d8b57d0",
   "metadata": {},
   "source": [
    "### 2. Missing values/Null values"
   ]
  },
  {
   "cell_type": "code",
   "execution_count": 9,
   "id": "eff7f419",
   "metadata": {},
   "outputs": [
    {
     "data": {
      "text/plain": [
       "age         0\n",
       "sex         0\n",
       "cp          0\n",
       "trtbps      0\n",
       "chol        0\n",
       "fbs         0\n",
       "restecg     0\n",
       "thalachh    0\n",
       "exng        0\n",
       "oldpeak     0\n",
       "slp         0\n",
       "caa         0\n",
       "thall       0\n",
       "output      0\n",
       "dtype: int64"
      ]
     },
     "execution_count": 9,
     "metadata": {},
     "output_type": "execute_result"
    }
   ],
   "source": [
    "# checking missing values\n",
    "df.isna().sum()"
   ]
  },
  {
   "cell_type": "markdown",
   "id": "9776844c",
   "metadata": {},
   "source": [
    "#### No missing value found"
   ]
  },
  {
   "cell_type": "markdown",
   "id": "f2b114a3",
   "metadata": {},
   "source": [
    "### 3. Dataset Describe"
   ]
  },
  {
   "cell_type": "code",
   "execution_count": 10,
   "id": "ce7ae6f0",
   "metadata": {},
   "outputs": [
    {
     "data": {
      "text/html": [
       "<div>\n",
       "<style scoped>\n",
       "    .dataframe tbody tr th:only-of-type {\n",
       "        vertical-align: middle;\n",
       "    }\n",
       "\n",
       "    .dataframe tbody tr th {\n",
       "        vertical-align: top;\n",
       "    }\n",
       "\n",
       "    .dataframe thead th {\n",
       "        text-align: right;\n",
       "    }\n",
       "</style>\n",
       "<table border=\"1\" class=\"dataframe\">\n",
       "  <thead>\n",
       "    <tr style=\"text-align: right;\">\n",
       "      <th></th>\n",
       "      <th>age</th>\n",
       "      <th>sex</th>\n",
       "      <th>cp</th>\n",
       "      <th>trtbps</th>\n",
       "      <th>chol</th>\n",
       "      <th>fbs</th>\n",
       "      <th>restecg</th>\n",
       "      <th>thalachh</th>\n",
       "      <th>exng</th>\n",
       "      <th>oldpeak</th>\n",
       "      <th>slp</th>\n",
       "      <th>caa</th>\n",
       "      <th>thall</th>\n",
       "      <th>output</th>\n",
       "    </tr>\n",
       "  </thead>\n",
       "  <tbody>\n",
       "    <tr>\n",
       "      <th>count</th>\n",
       "      <td>302.00000</td>\n",
       "      <td>302.000000</td>\n",
       "      <td>302.000000</td>\n",
       "      <td>302.000000</td>\n",
       "      <td>302.000000</td>\n",
       "      <td>302.000000</td>\n",
       "      <td>302.000000</td>\n",
       "      <td>302.000000</td>\n",
       "      <td>302.000000</td>\n",
       "      <td>302.000000</td>\n",
       "      <td>302.000000</td>\n",
       "      <td>302.000000</td>\n",
       "      <td>302.000000</td>\n",
       "      <td>302.000000</td>\n",
       "    </tr>\n",
       "    <tr>\n",
       "      <th>mean</th>\n",
       "      <td>54.42053</td>\n",
       "      <td>0.682119</td>\n",
       "      <td>0.963576</td>\n",
       "      <td>131.602649</td>\n",
       "      <td>246.500000</td>\n",
       "      <td>0.149007</td>\n",
       "      <td>0.526490</td>\n",
       "      <td>149.569536</td>\n",
       "      <td>0.327815</td>\n",
       "      <td>1.043046</td>\n",
       "      <td>1.397351</td>\n",
       "      <td>0.718543</td>\n",
       "      <td>2.314570</td>\n",
       "      <td>0.543046</td>\n",
       "    </tr>\n",
       "    <tr>\n",
       "      <th>std</th>\n",
       "      <td>9.04797</td>\n",
       "      <td>0.466426</td>\n",
       "      <td>1.032044</td>\n",
       "      <td>17.563394</td>\n",
       "      <td>51.753489</td>\n",
       "      <td>0.356686</td>\n",
       "      <td>0.526027</td>\n",
       "      <td>22.903527</td>\n",
       "      <td>0.470196</td>\n",
       "      <td>1.161452</td>\n",
       "      <td>0.616274</td>\n",
       "      <td>1.006748</td>\n",
       "      <td>0.613026</td>\n",
       "      <td>0.498970</td>\n",
       "    </tr>\n",
       "    <tr>\n",
       "      <th>min</th>\n",
       "      <td>29.00000</td>\n",
       "      <td>0.000000</td>\n",
       "      <td>0.000000</td>\n",
       "      <td>94.000000</td>\n",
       "      <td>126.000000</td>\n",
       "      <td>0.000000</td>\n",
       "      <td>0.000000</td>\n",
       "      <td>71.000000</td>\n",
       "      <td>0.000000</td>\n",
       "      <td>0.000000</td>\n",
       "      <td>0.000000</td>\n",
       "      <td>0.000000</td>\n",
       "      <td>0.000000</td>\n",
       "      <td>0.000000</td>\n",
       "    </tr>\n",
       "    <tr>\n",
       "      <th>25%</th>\n",
       "      <td>48.00000</td>\n",
       "      <td>0.000000</td>\n",
       "      <td>0.000000</td>\n",
       "      <td>120.000000</td>\n",
       "      <td>211.000000</td>\n",
       "      <td>0.000000</td>\n",
       "      <td>0.000000</td>\n",
       "      <td>133.250000</td>\n",
       "      <td>0.000000</td>\n",
       "      <td>0.000000</td>\n",
       "      <td>1.000000</td>\n",
       "      <td>0.000000</td>\n",
       "      <td>2.000000</td>\n",
       "      <td>0.000000</td>\n",
       "    </tr>\n",
       "    <tr>\n",
       "      <th>50%</th>\n",
       "      <td>55.50000</td>\n",
       "      <td>1.000000</td>\n",
       "      <td>1.000000</td>\n",
       "      <td>130.000000</td>\n",
       "      <td>240.500000</td>\n",
       "      <td>0.000000</td>\n",
       "      <td>1.000000</td>\n",
       "      <td>152.500000</td>\n",
       "      <td>0.000000</td>\n",
       "      <td>0.800000</td>\n",
       "      <td>1.000000</td>\n",
       "      <td>0.000000</td>\n",
       "      <td>2.000000</td>\n",
       "      <td>1.000000</td>\n",
       "    </tr>\n",
       "    <tr>\n",
       "      <th>75%</th>\n",
       "      <td>61.00000</td>\n",
       "      <td>1.000000</td>\n",
       "      <td>2.000000</td>\n",
       "      <td>140.000000</td>\n",
       "      <td>274.750000</td>\n",
       "      <td>0.000000</td>\n",
       "      <td>1.000000</td>\n",
       "      <td>166.000000</td>\n",
       "      <td>1.000000</td>\n",
       "      <td>1.600000</td>\n",
       "      <td>2.000000</td>\n",
       "      <td>1.000000</td>\n",
       "      <td>3.000000</td>\n",
       "      <td>1.000000</td>\n",
       "    </tr>\n",
       "    <tr>\n",
       "      <th>max</th>\n",
       "      <td>77.00000</td>\n",
       "      <td>1.000000</td>\n",
       "      <td>3.000000</td>\n",
       "      <td>200.000000</td>\n",
       "      <td>564.000000</td>\n",
       "      <td>1.000000</td>\n",
       "      <td>2.000000</td>\n",
       "      <td>202.000000</td>\n",
       "      <td>1.000000</td>\n",
       "      <td>6.200000</td>\n",
       "      <td>2.000000</td>\n",
       "      <td>4.000000</td>\n",
       "      <td>3.000000</td>\n",
       "      <td>1.000000</td>\n",
       "    </tr>\n",
       "  </tbody>\n",
       "</table>\n",
       "</div>"
      ],
      "text/plain": [
       "             age         sex          cp      trtbps        chol         fbs  \\\n",
       "count  302.00000  302.000000  302.000000  302.000000  302.000000  302.000000   \n",
       "mean    54.42053    0.682119    0.963576  131.602649  246.500000    0.149007   \n",
       "std      9.04797    0.466426    1.032044   17.563394   51.753489    0.356686   \n",
       "min     29.00000    0.000000    0.000000   94.000000  126.000000    0.000000   \n",
       "25%     48.00000    0.000000    0.000000  120.000000  211.000000    0.000000   \n",
       "50%     55.50000    1.000000    1.000000  130.000000  240.500000    0.000000   \n",
       "75%     61.00000    1.000000    2.000000  140.000000  274.750000    0.000000   \n",
       "max     77.00000    1.000000    3.000000  200.000000  564.000000    1.000000   \n",
       "\n",
       "          restecg    thalachh        exng     oldpeak         slp         caa  \\\n",
       "count  302.000000  302.000000  302.000000  302.000000  302.000000  302.000000   \n",
       "mean     0.526490  149.569536    0.327815    1.043046    1.397351    0.718543   \n",
       "std      0.526027   22.903527    0.470196    1.161452    0.616274    1.006748   \n",
       "min      0.000000   71.000000    0.000000    0.000000    0.000000    0.000000   \n",
       "25%      0.000000  133.250000    0.000000    0.000000    1.000000    0.000000   \n",
       "50%      1.000000  152.500000    0.000000    0.800000    1.000000    0.000000   \n",
       "75%      1.000000  166.000000    1.000000    1.600000    2.000000    1.000000   \n",
       "max      2.000000  202.000000    1.000000    6.200000    2.000000    4.000000   \n",
       "\n",
       "            thall      output  \n",
       "count  302.000000  302.000000  \n",
       "mean     2.314570    0.543046  \n",
       "std      0.613026    0.498970  \n",
       "min      0.000000    0.000000  \n",
       "25%      2.000000    0.000000  \n",
       "50%      2.000000    1.000000  \n",
       "75%      3.000000    1.000000  \n",
       "max      3.000000    1.000000  "
      ]
     },
     "execution_count": 10,
     "metadata": {},
     "output_type": "execute_result"
    }
   ],
   "source": [
    "# check statistical measures about the data\n",
    "df.describe()"
   ]
  },
  {
   "cell_type": "code",
   "execution_count": null,
   "id": "6867ce49",
   "metadata": {},
   "outputs": [],
   "source": []
  },
  {
   "cell_type": "markdown",
   "id": "ecfc1c0d",
   "metadata": {},
   "source": [
    "#### 3.1 cp"
   ]
  },
  {
   "cell_type": "code",
   "execution_count": 11,
   "id": "04b3245f",
   "metadata": {},
   "outputs": [
    {
     "data": {
      "text/plain": [
       "0    143\n",
       "2     86\n",
       "1     50\n",
       "3     23\n",
       "Name: cp, dtype: int64"
      ]
     },
     "execution_count": 11,
     "metadata": {},
     "output_type": "execute_result"
    }
   ],
   "source": [
    "df['cp'].value_counts()"
   ]
  },
  {
   "cell_type": "markdown",
   "id": "0d58908f",
   "metadata": {},
   "source": [
    "#### 3.2 fbs"
   ]
  },
  {
   "cell_type": "code",
   "execution_count": 12,
   "id": "c80efdc1",
   "metadata": {},
   "outputs": [
    {
     "data": {
      "text/plain": [
       "0    257\n",
       "1     45\n",
       "Name: fbs, dtype: int64"
      ]
     },
     "execution_count": 12,
     "metadata": {},
     "output_type": "execute_result"
    }
   ],
   "source": [
    "df['fbs'].value_counts()"
   ]
  },
  {
   "cell_type": "markdown",
   "id": "95f9f043",
   "metadata": {},
   "source": [
    "#### 3.3 restecg"
   ]
  },
  {
   "cell_type": "code",
   "execution_count": 13,
   "id": "9b6f0f63",
   "metadata": {},
   "outputs": [
    {
     "data": {
      "text/plain": [
       "1    151\n",
       "0    147\n",
       "2      4\n",
       "Name: restecg, dtype: int64"
      ]
     },
     "execution_count": 13,
     "metadata": {},
     "output_type": "execute_result"
    }
   ],
   "source": [
    "df['restecg'].value_counts()"
   ]
  },
  {
   "cell_type": "markdown",
   "id": "816cf5d1",
   "metadata": {},
   "source": [
    "#### 3.4 exng"
   ]
  },
  {
   "cell_type": "code",
   "execution_count": 14,
   "id": "e144cfed",
   "metadata": {},
   "outputs": [
    {
     "data": {
      "text/plain": [
       "0    203\n",
       "1     99\n",
       "Name: exng, dtype: int64"
      ]
     },
     "execution_count": 14,
     "metadata": {},
     "output_type": "execute_result"
    }
   ],
   "source": [
    "df['exng'].value_counts()"
   ]
  },
  {
   "cell_type": "markdown",
   "id": "f4b825ca",
   "metadata": {},
   "source": [
    "#### 3.5 slp"
   ]
  },
  {
   "cell_type": "code",
   "execution_count": 15,
   "id": "7b282fc5",
   "metadata": {},
   "outputs": [
    {
     "data": {
      "text/plain": [
       "2    141\n",
       "1    140\n",
       "0     21\n",
       "Name: slp, dtype: int64"
      ]
     },
     "execution_count": 15,
     "metadata": {},
     "output_type": "execute_result"
    }
   ],
   "source": [
    "df['slp'].value_counts()"
   ]
  },
  {
   "cell_type": "markdown",
   "id": "885322fa",
   "metadata": {},
   "source": [
    "#### 3.6 caa"
   ]
  },
  {
   "cell_type": "code",
   "execution_count": 16,
   "id": "85476271",
   "metadata": {},
   "outputs": [
    {
     "data": {
      "text/plain": [
       "0    175\n",
       "1     65\n",
       "2     38\n",
       "3     20\n",
       "4      4\n",
       "Name: caa, dtype: int64"
      ]
     },
     "execution_count": 16,
     "metadata": {},
     "output_type": "execute_result"
    }
   ],
   "source": [
    "df['caa'].value_counts()"
   ]
  },
  {
   "cell_type": "markdown",
   "id": "f6a7977a",
   "metadata": {},
   "source": [
    "#### 3.7 output"
   ]
  },
  {
   "cell_type": "code",
   "execution_count": 17,
   "id": "4d4a77aa",
   "metadata": {},
   "outputs": [
    {
     "data": {
      "text/plain": [
       "1    164\n",
       "0    138\n",
       "Name: output, dtype: int64"
      ]
     },
     "execution_count": 17,
     "metadata": {},
     "output_type": "execute_result"
    }
   ],
   "source": [
    "# checking the distribution of Target Variable\n",
    "df['output'].value_counts()   # here data is inbalance"
   ]
  },
  {
   "cell_type": "code",
   "execution_count": 18,
   "id": "253cf327",
   "metadata": {},
   "outputs": [
    {
     "data": {
      "text/plain": [
       "0.543046357615894"
      ]
     },
     "execution_count": 18,
     "metadata": {},
     "output_type": "execute_result"
    }
   ],
   "source": [
    "164/302"
   ]
  },
  {
   "cell_type": "code",
   "execution_count": 19,
   "id": "92812c35",
   "metadata": {},
   "outputs": [
    {
     "data": {
      "text/plain": [
       "0.45695364238410596"
      ]
     },
     "execution_count": 19,
     "metadata": {},
     "output_type": "execute_result"
    }
   ],
   "source": [
    "138/302"
   ]
  },
  {
   "cell_type": "code",
   "execution_count": 20,
   "id": "0e57eb0b",
   "metadata": {},
   "outputs": [
    {
     "data": {
      "text/plain": [
       "<AxesSubplot:xlabel='output', ylabel='count'>"
      ]
     },
     "execution_count": 20,
     "metadata": {},
     "output_type": "execute_result"
    },
    {
     "data": {
      "image/png": "[encoded data removed]",
      "text/plain": [
       "<Figure size 640x480 with 1 Axes>"
      ]
     },
     "metadata": {},
     "output_type": "display_data"
    }
   ],
   "source": [
    "sns.countplot(x = df['output']) "
   ]
  },
  {
   "cell_type": "markdown",
   "id": "e45d6841",
   "metadata": {},
   "source": [
    "### 4. Feature Selection"
   ]
  },
  {
   "cell_type": "code",
   "execution_count": null,
   "id": "02047b84",
   "metadata": {},
   "outputs": [],
   "source": [
    "Filter Method:\n",
    "    1. VIF\n",
    "\n",
    "Wrapper Method:\n",
    "    1. Forward Feature Selection\n",
    "    2. Backward Feature Elimination\n",
    "    3. RFE\n",
    "\n",
    "Embedded Method:\n",
    "    1. Regularization"
   ]
  },
  {
   "cell_type": "markdown",
   "id": "f2a7d32e",
   "metadata": {},
   "source": [
    "#### No multicolinearity"
   ]
  },
  {
   "cell_type": "code",
   "execution_count": 21,
   "id": "274115d6",
   "metadata": {},
   "outputs": [],
   "source": [
    "x = df.drop('output', axis = 1)\n",
    "y = df['output']"
   ]
  },
  {
   "cell_type": "code",
   "execution_count": 22,
   "id": "b7ddf277",
   "metadata": {},
   "outputs": [
    {
     "data": {
      "text/plain": [
       "age         39.567644\n",
       "sex          3.507112\n",
       "cp           2.409980\n",
       "trtbps      58.776923\n",
       "chol        26.281421\n",
       "fbs          1.273256\n",
       "restecg      2.051037\n",
       "thalachh    42.631809\n",
       "exng         2.022825\n",
       "oldpeak      3.071361\n",
       "slp         10.015857\n",
       "caa          1.860512\n",
       "thall       17.141073\n",
       "dtype: float64"
      ]
     },
     "execution_count": 22,
     "metadata": {},
     "output_type": "execute_result"
    }
   ],
   "source": [
    "vif_value = []\n",
    "for i in range(x.shape[1]):\n",
    "    vif = variance_inflation_factor(x.to_numpy(), i)\n",
    "    vif_value.append(vif)\n",
    "    \n",
    "vif_val = pd.Series(vif_value, index = x.columns)\n",
    "vif_val"
   ]
  },
  {
   "cell_type": "markdown",
   "id": "f069f07f",
   "metadata": {},
   "source": [
    "### 5. Model Training"
   ]
  },
  {
   "cell_type": "markdown",
   "id": "65ab01c5",
   "metadata": {},
   "source": [
    "#### 5.1 Spliting the Data into Training data and Testing data"
   ]
  },
  {
   "cell_type": "code",
   "execution_count": 23,
   "id": "fada9797",
   "metadata": {},
   "outputs": [],
   "source": [
    "x_train, x_test, y_train, y_test = train_test_split(x,y,test_size=0.2,random_state=1,stratify=y)"
   ]
  },
  {
   "cell_type": "code",
   "execution_count": 24,
   "id": "6b7ff864",
   "metadata": {
    "scrolled": true
   },
   "outputs": [
    {
     "data": {
      "text/plain": [
       "1    131\n",
       "0    110\n",
       "Name: output, dtype: int64"
      ]
     },
     "execution_count": 24,
     "metadata": {},
     "output_type": "execute_result"
    }
   ],
   "source": [
    "y_train.value_counts()"
   ]
  },
  {
   "cell_type": "code",
   "execution_count": 25,
   "id": "3adcb4fe",
   "metadata": {
    "scrolled": true
   },
   "outputs": [
    {
     "data": {
      "text/plain": [
       "0.5435684647302904"
      ]
     },
     "execution_count": 25,
     "metadata": {},
     "output_type": "execute_result"
    }
   ],
   "source": [
    "131/241"
   ]
  },
  {
   "cell_type": "markdown",
   "id": "4e84db08",
   "metadata": {},
   "source": [
    "#### 5.2 Instatiating Model and Training the model"
   ]
  },
  {
   "cell_type": "code",
   "execution_count": 26,
   "id": "f3f97bd2",
   "metadata": {},
   "outputs": [
    {
     "data": {
      "text/plain": [
       "LogisticRegression()"
      ]
     },
     "execution_count": 26,
     "metadata": {},
     "output_type": "execute_result"
    }
   ],
   "source": [
    "logistic_clf = LogisticRegression()\n",
    "logistic_clf.fit(x_train, y_train)"
   ]
  },
  {
   "cell_type": "markdown",
   "id": "3adc58e9",
   "metadata": {},
   "source": [
    "### Checking Linearity "
   ]
  },
  {
   "cell_type": "code",
   "execution_count": 27,
   "id": "73427c21",
   "metadata": {},
   "outputs": [],
   "source": [
    "p = logistic_clf.predict_proba(x_train)[:,1]"
   ]
  },
  {
   "cell_type": "code",
   "execution_count": 21,
   "id": "ebb91f1c",
   "metadata": {
    "scrolled": true
   },
   "outputs": [
    {
     "data": {
      "text/html": [
       "<div>\n",
       "<style scoped>\n",
       "    .dataframe tbody tr th:only-of-type {\n",
       "        vertical-align: middle;\n",
       "    }\n",
       "\n",
       "    .dataframe tbody tr th {\n",
       "        vertical-align: top;\n",
       "    }\n",
       "\n",
       "    .dataframe thead th {\n",
       "        text-align: right;\n",
       "    }\n",
       "</style>\n",
       "<table border=\"1\" class=\"dataframe\">\n",
       "  <thead>\n",
       "    <tr style=\"text-align: right;\">\n",
       "      <th></th>\n",
       "      <th>age</th>\n",
       "      <th>sex</th>\n",
       "      <th>cp</th>\n",
       "      <th>trtbps</th>\n",
       "      <th>chol</th>\n",
       "      <th>fbs</th>\n",
       "      <th>restecg</th>\n",
       "      <th>thalachh</th>\n",
       "      <th>exng</th>\n",
       "      <th>oldpeak</th>\n",
       "      <th>slp</th>\n",
       "      <th>caa</th>\n",
       "      <th>thall</th>\n",
       "      <th>Log_Odds</th>\n",
       "    </tr>\n",
       "  </thead>\n",
       "  <tbody>\n",
       "    <tr>\n",
       "      <th>285</th>\n",
       "      <td>46</td>\n",
       "      <td>1</td>\n",
       "      <td>0</td>\n",
       "      <td>140</td>\n",
       "      <td>311</td>\n",
       "      <td>0</td>\n",
       "      <td>1</td>\n",
       "      <td>120</td>\n",
       "      <td>1</td>\n",
       "      <td>1.8</td>\n",
       "      <td>1</td>\n",
       "      <td>2</td>\n",
       "      <td>3</td>\n",
       "      <td>-4.670237</td>\n",
       "    </tr>\n",
       "    <tr>\n",
       "      <th>31</th>\n",
       "      <td>65</td>\n",
       "      <td>1</td>\n",
       "      <td>0</td>\n",
       "      <td>120</td>\n",
       "      <td>177</td>\n",
       "      <td>0</td>\n",
       "      <td>1</td>\n",
       "      <td>140</td>\n",
       "      <td>0</td>\n",
       "      <td>0.4</td>\n",
       "      <td>2</td>\n",
       "      <td>0</td>\n",
       "      <td>3</td>\n",
       "      <td>-0.234297</td>\n",
       "    </tr>\n",
       "    <tr>\n",
       "      <th>35</th>\n",
       "      <td>46</td>\n",
       "      <td>0</td>\n",
       "      <td>2</td>\n",
       "      <td>142</td>\n",
       "      <td>177</td>\n",
       "      <td>0</td>\n",
       "      <td>0</td>\n",
       "      <td>160</td>\n",
       "      <td>1</td>\n",
       "      <td>1.4</td>\n",
       "      <td>0</td>\n",
       "      <td>0</td>\n",
       "      <td>2</td>\n",
       "      <td>1.385079</td>\n",
       "    </tr>\n",
       "    <tr>\n",
       "      <th>16</th>\n",
       "      <td>58</td>\n",
       "      <td>0</td>\n",
       "      <td>2</td>\n",
       "      <td>120</td>\n",
       "      <td>340</td>\n",
       "      <td>0</td>\n",
       "      <td>1</td>\n",
       "      <td>172</td>\n",
       "      <td>0</td>\n",
       "      <td>0.0</td>\n",
       "      <td>2</td>\n",
       "      <td>0</td>\n",
       "      <td>2</td>\n",
       "      <td>4.454944</td>\n",
       "    </tr>\n",
       "    <tr>\n",
       "      <th>59</th>\n",
       "      <td>57</td>\n",
       "      <td>0</td>\n",
       "      <td>0</td>\n",
       "      <td>128</td>\n",
       "      <td>303</td>\n",
       "      <td>0</td>\n",
       "      <td>0</td>\n",
       "      <td>159</td>\n",
       "      <td>0</td>\n",
       "      <td>0.0</td>\n",
       "      <td>2</td>\n",
       "      <td>1</td>\n",
       "      <td>2</td>\n",
       "      <td>1.207960</td>\n",
       "    </tr>\n",
       "    <tr>\n",
       "      <th>...</th>\n",
       "      <td>...</td>\n",
       "      <td>...</td>\n",
       "      <td>...</td>\n",
       "      <td>...</td>\n",
       "      <td>...</td>\n",
       "      <td>...</td>\n",
       "      <td>...</td>\n",
       "      <td>...</td>\n",
       "      <td>...</td>\n",
       "      <td>...</td>\n",
       "      <td>...</td>\n",
       "      <td>...</td>\n",
       "      <td>...</td>\n",
       "      <td>...</td>\n",
       "    </tr>\n",
       "    <tr>\n",
       "      <th>156</th>\n",
       "      <td>47</td>\n",
       "      <td>1</td>\n",
       "      <td>2</td>\n",
       "      <td>130</td>\n",
       "      <td>253</td>\n",
       "      <td>0</td>\n",
       "      <td>1</td>\n",
       "      <td>179</td>\n",
       "      <td>0</td>\n",
       "      <td>0.0</td>\n",
       "      <td>2</td>\n",
       "      <td>0</td>\n",
       "      <td>2</td>\n",
       "      <td>3.294652</td>\n",
       "    </tr>\n",
       "    <tr>\n",
       "      <th>70</th>\n",
       "      <td>54</td>\n",
       "      <td>1</td>\n",
       "      <td>2</td>\n",
       "      <td>120</td>\n",
       "      <td>258</td>\n",
       "      <td>0</td>\n",
       "      <td>0</td>\n",
       "      <td>147</td>\n",
       "      <td>0</td>\n",
       "      <td>0.4</td>\n",
       "      <td>1</td>\n",
       "      <td>0</td>\n",
       "      <td>3</td>\n",
       "      <td>0.640449</td>\n",
       "    </tr>\n",
       "    <tr>\n",
       "      <th>63</th>\n",
       "      <td>41</td>\n",
       "      <td>1</td>\n",
       "      <td>1</td>\n",
       "      <td>135</td>\n",
       "      <td>203</td>\n",
       "      <td>0</td>\n",
       "      <td>1</td>\n",
       "      <td>132</td>\n",
       "      <td>0</td>\n",
       "      <td>0.0</td>\n",
       "      <td>1</td>\n",
       "      <td>0</td>\n",
       "      <td>1</td>\n",
       "      <td>1.430168</td>\n",
       "    </tr>\n",
       "    <tr>\n",
       "      <th>271</th>\n",
       "      <td>61</td>\n",
       "      <td>1</td>\n",
       "      <td>3</td>\n",
       "      <td>134</td>\n",
       "      <td>234</td>\n",
       "      <td>0</td>\n",
       "      <td>1</td>\n",
       "      <td>145</td>\n",
       "      <td>0</td>\n",
       "      <td>2.6</td>\n",
       "      <td>1</td>\n",
       "      <td>2</td>\n",
       "      <td>2</td>\n",
       "      <td>0.103494</td>\n",
       "    </tr>\n",
       "    <tr>\n",
       "      <th>80</th>\n",
       "      <td>41</td>\n",
       "      <td>1</td>\n",
       "      <td>2</td>\n",
       "      <td>112</td>\n",
       "      <td>250</td>\n",
       "      <td>0</td>\n",
       "      <td>1</td>\n",
       "      <td>179</td>\n",
       "      <td>0</td>\n",
       "      <td>0.0</td>\n",
       "      <td>2</td>\n",
       "      <td>0</td>\n",
       "      <td>2</td>\n",
       "      <td>3.533903</td>\n",
       "    </tr>\n",
       "  </tbody>\n",
       "</table>\n",
       "<p>241 rows × 14 columns</p>\n",
       "</div>"
      ],
      "text/plain": [
       "     age  sex  cp  trtbps  chol  fbs  restecg  thalachh  exng  oldpeak  slp  \\\n",
       "285   46    1   0     140   311    0        1       120     1      1.8    1   \n",
       "31    65    1   0     120   177    0        1       140     0      0.4    2   \n",
       "35    46    0   2     142   177    0        0       160     1      1.4    0   \n",
       "16    58    0   2     120   340    0        1       172     0      0.0    2   \n",
       "59    57    0   0     128   303    0        0       159     0      0.0    2   \n",
       "..   ...  ...  ..     ...   ...  ...      ...       ...   ...      ...  ...   \n",
       "156   47    1   2     130   253    0        1       179     0      0.0    2   \n",
       "70    54    1   2     120   258    0        0       147     0      0.4    1   \n",
       "63    41    1   1     135   203    0        1       132     0      0.0    1   \n",
       "271   61    1   3     134   234    0        1       145     0      2.6    1   \n",
       "80    41    1   2     112   250    0        1       179     0      0.0    2   \n",
       "\n",
       "     caa  thall  Log_Odds  \n",
       "285    2      3 -4.670237  \n",
       "31     0      3 -0.234297  \n",
       "35     0      2  1.385079  \n",
       "16     0      2  4.454944  \n",
       "59     1      2  1.207960  \n",
       "..   ...    ...       ...  \n",
       "156    0      2  3.294652  \n",
       "70     0      3  0.640449  \n",
       "63     0      1  1.430168  \n",
       "271    2      2  0.103494  \n",
       "80     0      2  3.533903  \n",
       "\n",
       "[241 rows x 14 columns]"
      ]
     },
     "execution_count": 21,
     "metadata": {},
     "output_type": "execute_result"
    }
   ],
   "source": [
    "# checking correlation between independent variables and Log odds\n",
    "x_train['Log_Odds'] = np.log(p/(1-p))\n",
    "x_train"
   ]
  },
  {
   "cell_type": "code",
   "execution_count": 22,
   "id": "b0588d9d",
   "metadata": {},
   "outputs": [
    {
     "data": {
      "text/html": [
       "<div>\n",
       "<style scoped>\n",
       "    .dataframe tbody tr th:only-of-type {\n",
       "        vertical-align: middle;\n",
       "    }\n",
       "\n",
       "    .dataframe tbody tr th {\n",
       "        vertical-align: top;\n",
       "    }\n",
       "\n",
       "    .dataframe thead th {\n",
       "        text-align: right;\n",
       "    }\n",
       "</style>\n",
       "<table border=\"1\" class=\"dataframe\">\n",
       "  <thead>\n",
       "    <tr style=\"text-align: right;\">\n",
       "      <th></th>\n",
       "      <th>age</th>\n",
       "      <th>sex</th>\n",
       "      <th>cp</th>\n",
       "      <th>trtbps</th>\n",
       "      <th>chol</th>\n",
       "      <th>fbs</th>\n",
       "      <th>restecg</th>\n",
       "      <th>thalachh</th>\n",
       "      <th>exng</th>\n",
       "      <th>oldpeak</th>\n",
       "      <th>slp</th>\n",
       "      <th>caa</th>\n",
       "      <th>thall</th>\n",
       "      <th>Log_Odds</th>\n",
       "    </tr>\n",
       "  </thead>\n",
       "  <tbody>\n",
       "    <tr>\n",
       "      <th>age</th>\n",
       "      <td>1.000000</td>\n",
       "      <td>-0.122651</td>\n",
       "      <td>-0.057047</td>\n",
       "      <td>0.256528</td>\n",
       "      <td>0.192829</td>\n",
       "      <td>0.120029</td>\n",
       "      <td>-0.074226</td>\n",
       "      <td>-0.418260</td>\n",
       "      <td>0.127397</td>\n",
       "      <td>0.240524</td>\n",
       "      <td>-0.191981</td>\n",
       "      <td>0.294969</td>\n",
       "      <td>0.077203</td>\n",
       "      <td>-0.293874</td>\n",
       "    </tr>\n",
       "    <tr>\n",
       "      <th>sex</th>\n",
       "      <td>-0.122651</td>\n",
       "      <td>1.000000</td>\n",
       "      <td>-0.058051</td>\n",
       "      <td>-0.060399</td>\n",
       "      <td>-0.180206</td>\n",
       "      <td>0.069490</td>\n",
       "      <td>-0.007247</td>\n",
       "      <td>-0.065789</td>\n",
       "      <td>0.144817</td>\n",
       "      <td>0.094324</td>\n",
       "      <td>-0.049958</td>\n",
       "      <td>0.115101</td>\n",
       "      <td>0.216504</td>\n",
       "      <td>-0.371190</td>\n",
       "    </tr>\n",
       "    <tr>\n",
       "      <th>cp</th>\n",
       "      <td>-0.057047</td>\n",
       "      <td>-0.058051</td>\n",
       "      <td>1.000000</td>\n",
       "      <td>0.013622</td>\n",
       "      <td>-0.060637</td>\n",
       "      <td>0.119544</td>\n",
       "      <td>0.051296</td>\n",
       "      <td>0.262639</td>\n",
       "      <td>-0.447927</td>\n",
       "      <td>-0.176467</td>\n",
       "      <td>0.134336</td>\n",
       "      <td>-0.185332</td>\n",
       "      <td>-0.189286</td>\n",
       "      <td>0.620605</td>\n",
       "    </tr>\n",
       "    <tr>\n",
       "      <th>trtbps</th>\n",
       "      <td>0.256528</td>\n",
       "      <td>-0.060399</td>\n",
       "      <td>0.013622</td>\n",
       "      <td>1.000000</td>\n",
       "      <td>0.105414</td>\n",
       "      <td>0.205747</td>\n",
       "      <td>-0.111141</td>\n",
       "      <td>-0.032860</td>\n",
       "      <td>0.062461</td>\n",
       "      <td>0.187722</td>\n",
       "      <td>-0.121805</td>\n",
       "      <td>0.134392</td>\n",
       "      <td>0.063249</td>\n",
       "      <td>-0.218820</td>\n",
       "    </tr>\n",
       "    <tr>\n",
       "      <th>chol</th>\n",
       "      <td>0.192829</td>\n",
       "      <td>-0.180206</td>\n",
       "      <td>-0.060637</td>\n",
       "      <td>0.105414</td>\n",
       "      <td>1.000000</td>\n",
       "      <td>-0.018184</td>\n",
       "      <td>-0.159492</td>\n",
       "      <td>0.009239</td>\n",
       "      <td>0.130485</td>\n",
       "      <td>0.040286</td>\n",
       "      <td>0.010698</td>\n",
       "      <td>0.067102</td>\n",
       "      <td>0.108335</td>\n",
       "      <td>-0.089060</td>\n",
       "    </tr>\n",
       "    <tr>\n",
       "      <th>fbs</th>\n",
       "      <td>0.120029</td>\n",
       "      <td>0.069490</td>\n",
       "      <td>0.119544</td>\n",
       "      <td>0.205747</td>\n",
       "      <td>-0.018184</td>\n",
       "      <td>1.000000</td>\n",
       "      <td>-0.057192</td>\n",
       "      <td>0.015305</td>\n",
       "      <td>0.037440</td>\n",
       "      <td>0.013430</td>\n",
       "      <td>-0.073508</td>\n",
       "      <td>0.074348</td>\n",
       "      <td>-0.048828</td>\n",
       "      <td>-0.014646</td>\n",
       "    </tr>\n",
       "    <tr>\n",
       "      <th>restecg</th>\n",
       "      <td>-0.074226</td>\n",
       "      <td>-0.007247</td>\n",
       "      <td>0.051296</td>\n",
       "      <td>-0.111141</td>\n",
       "      <td>-0.159492</td>\n",
       "      <td>-0.057192</td>\n",
       "      <td>1.000000</td>\n",
       "      <td>-0.000890</td>\n",
       "      <td>-0.098262</td>\n",
       "      <td>-0.076149</td>\n",
       "      <td>0.107609</td>\n",
       "      <td>-0.085536</td>\n",
       "      <td>0.038405</td>\n",
       "      <td>0.156019</td>\n",
       "    </tr>\n",
       "    <tr>\n",
       "      <th>thalachh</th>\n",
       "      <td>-0.418260</td>\n",
       "      <td>-0.065789</td>\n",
       "      <td>0.262639</td>\n",
       "      <td>-0.032860</td>\n",
       "      <td>0.009239</td>\n",
       "      <td>0.015305</td>\n",
       "      <td>-0.000890</td>\n",
       "      <td>1.000000</td>\n",
       "      <td>-0.368727</td>\n",
       "      <td>-0.333413</td>\n",
       "      <td>0.387568</td>\n",
       "      <td>-0.222874</td>\n",
       "      <td>-0.091053</td>\n",
       "      <td>0.598692</td>\n",
       "    </tr>\n",
       "    <tr>\n",
       "      <th>exng</th>\n",
       "      <td>0.127397</td>\n",
       "      <td>0.144817</td>\n",
       "      <td>-0.447927</td>\n",
       "      <td>0.062461</td>\n",
       "      <td>0.130485</td>\n",
       "      <td>0.037440</td>\n",
       "      <td>-0.098262</td>\n",
       "      <td>-0.368727</td>\n",
       "      <td>1.000000</td>\n",
       "      <td>0.252893</td>\n",
       "      <td>-0.260176</td>\n",
       "      <td>0.139510</td>\n",
       "      <td>0.181055</td>\n",
       "      <td>-0.559841</td>\n",
       "    </tr>\n",
       "    <tr>\n",
       "      <th>oldpeak</th>\n",
       "      <td>0.240524</td>\n",
       "      <td>0.094324</td>\n",
       "      <td>-0.176467</td>\n",
       "      <td>0.187722</td>\n",
       "      <td>0.040286</td>\n",
       "      <td>0.013430</td>\n",
       "      <td>-0.076149</td>\n",
       "      <td>-0.333413</td>\n",
       "      <td>0.252893</td>\n",
       "      <td>1.000000</td>\n",
       "      <td>-0.542941</td>\n",
       "      <td>0.263902</td>\n",
       "      <td>0.251635</td>\n",
       "      <td>-0.622958</td>\n",
       "    </tr>\n",
       "    <tr>\n",
       "      <th>slp</th>\n",
       "      <td>-0.191981</td>\n",
       "      <td>-0.049958</td>\n",
       "      <td>0.134336</td>\n",
       "      <td>-0.121805</td>\n",
       "      <td>0.010698</td>\n",
       "      <td>-0.073508</td>\n",
       "      <td>0.107609</td>\n",
       "      <td>0.387568</td>\n",
       "      <td>-0.260176</td>\n",
       "      <td>-0.542941</td>\n",
       "      <td>1.000000</td>\n",
       "      <td>-0.086048</td>\n",
       "      <td>-0.142517</td>\n",
       "      <td>0.483424</td>\n",
       "    </tr>\n",
       "    <tr>\n",
       "      <th>caa</th>\n",
       "      <td>0.294969</td>\n",
       "      <td>0.115101</td>\n",
       "      <td>-0.185332</td>\n",
       "      <td>0.134392</td>\n",
       "      <td>0.067102</td>\n",
       "      <td>0.074348</td>\n",
       "      <td>-0.085536</td>\n",
       "      <td>-0.222874</td>\n",
       "      <td>0.139510</td>\n",
       "      <td>0.263902</td>\n",
       "      <td>-0.086048</td>\n",
       "      <td>1.000000</td>\n",
       "      <td>0.175903</td>\n",
       "      <td>-0.562848</td>\n",
       "    </tr>\n",
       "    <tr>\n",
       "      <th>thall</th>\n",
       "      <td>0.077203</td>\n",
       "      <td>0.216504</td>\n",
       "      <td>-0.189286</td>\n",
       "      <td>0.063249</td>\n",
       "      <td>0.108335</td>\n",
       "      <td>-0.048828</td>\n",
       "      <td>0.038405</td>\n",
       "      <td>-0.091053</td>\n",
       "      <td>0.181055</td>\n",
       "      <td>0.251635</td>\n",
       "      <td>-0.142517</td>\n",
       "      <td>0.175903</td>\n",
       "      <td>1.000000</td>\n",
       "      <td>-0.505873</td>\n",
       "    </tr>\n",
       "    <tr>\n",
       "      <th>Log_Odds</th>\n",
       "      <td>-0.293874</td>\n",
       "      <td>-0.371190</td>\n",
       "      <td>0.620605</td>\n",
       "      <td>-0.218820</td>\n",
       "      <td>-0.089060</td>\n",
       "      <td>-0.014646</td>\n",
       "      <td>0.156019</td>\n",
       "      <td>0.598692</td>\n",
       "      <td>-0.559841</td>\n",
       "      <td>-0.622958</td>\n",
       "      <td>0.483424</td>\n",
       "      <td>-0.562848</td>\n",
       "      <td>-0.505873</td>\n",
       "      <td>1.000000</td>\n",
       "    </tr>\n",
       "  </tbody>\n",
       "</table>\n",
       "</div>"
      ],
      "text/plain": [
       "               age       sex        cp    trtbps      chol       fbs  \\\n",
       "age       1.000000 -0.122651 -0.057047  0.256528  0.192829  0.120029   \n",
       "sex      -0.122651  1.000000 -0.058051 -0.060399 -0.180206  0.069490   \n",
       "cp       -0.057047 -0.058051  1.000000  0.013622 -0.060637  0.119544   \n",
       "trtbps    0.256528 -0.060399  0.013622  1.000000  0.105414  0.205747   \n",
       "chol      0.192829 -0.180206 -0.060637  0.105414  1.000000 -0.018184   \n",
       "fbs       0.120029  0.069490  0.119544  0.205747 -0.018184  1.000000   \n",
       "restecg  -0.074226 -0.007247  0.051296 -0.111141 -0.159492 -0.057192   \n",
       "thalachh -0.418260 -0.065789  0.262639 -0.032860  0.009239  0.015305   \n",
       "exng      0.127397  0.144817 -0.447927  0.062461  0.130485  0.037440   \n",
       "oldpeak   0.240524  0.094324 -0.176467  0.187722  0.040286  0.013430   \n",
       "slp      -0.191981 -0.049958  0.134336 -0.121805  0.010698 -0.073508   \n",
       "caa       0.294969  0.115101 -0.185332  0.134392  0.067102  0.074348   \n",
       "thall     0.077203  0.216504 -0.189286  0.063249  0.108335 -0.048828   \n",
       "Log_Odds -0.293874 -0.371190  0.620605 -0.218820 -0.089060 -0.014646   \n",
       "\n",
       "           restecg  thalachh      exng   oldpeak       slp       caa  \\\n",
       "age      -0.074226 -0.418260  0.127397  0.240524 -0.191981  0.294969   \n",
       "sex      -0.007247 -0.065789  0.144817  0.094324 -0.049958  0.115101   \n",
       "cp        0.051296  0.262639 -0.447927 -0.176467  0.134336 -0.185332   \n",
       "trtbps   -0.111141 -0.032860  0.062461  0.187722 -0.121805  0.134392   \n",
       "chol     -0.159492  0.009239  0.130485  0.040286  0.010698  0.067102   \n",
       "fbs      -0.057192  0.015305  0.037440  0.013430 -0.073508  0.074348   \n",
       "restecg   1.000000 -0.000890 -0.098262 -0.076149  0.107609 -0.085536   \n",
       "thalachh -0.000890  1.000000 -0.368727 -0.333413  0.387568 -0.222874   \n",
       "exng     -0.098262 -0.368727  1.000000  0.252893 -0.260176  0.139510   \n",
       "oldpeak  -0.076149 -0.333413  0.252893  1.000000 -0.542941  0.263902   \n",
       "slp       0.107609  0.387568 -0.260176 -0.542941  1.000000 -0.086048   \n",
       "caa      -0.085536 -0.222874  0.139510  0.263902 -0.086048  1.000000   \n",
       "thall     0.038405 -0.091053  0.181055  0.251635 -0.142517  0.175903   \n",
       "Log_Odds  0.156019  0.598692 -0.559841 -0.622958  0.483424 -0.562848   \n",
       "\n",
       "             thall  Log_Odds  \n",
       "age       0.077203 -0.293874  \n",
       "sex       0.216504 -0.371190  \n",
       "cp       -0.189286  0.620605  \n",
       "trtbps    0.063249 -0.218820  \n",
       "chol      0.108335 -0.089060  \n",
       "fbs      -0.048828 -0.014646  \n",
       "restecg   0.038405  0.156019  \n",
       "thalachh -0.091053  0.598692  \n",
       "exng      0.181055 -0.559841  \n",
       "oldpeak   0.251635 -0.622958  \n",
       "slp      -0.142517  0.483424  \n",
       "caa       0.175903 -0.562848  \n",
       "thall     1.000000 -0.505873  \n",
       "Log_Odds -0.505873  1.000000  "
      ]
     },
     "execution_count": 22,
     "metadata": {},
     "output_type": "execute_result"
    }
   ],
   "source": [
    "x_train.corr()"
   ]
  },
  {
   "cell_type": "code",
   "execution_count": null,
   "id": "2ccd9c06",
   "metadata": {},
   "outputs": [],
   "source": []
  },
  {
   "cell_type": "markdown",
   "id": "ccd2c74f",
   "metadata": {},
   "source": [
    "### 6. Model Evaluation"
   ]
  },
  {
   "cell_type": "markdown",
   "id": "4ff8ee22",
   "metadata": {},
   "source": [
    "#### 6.1 Model Evaluation on Training Data"
   ]
  },
  {
   "cell_type": "code",
   "execution_count": 28,
   "id": "43154d95",
   "metadata": {
    "scrolled": true
   },
   "outputs": [
    {
     "name": "stdout",
     "output_type": "stream",
     "text": [
      "Confusion Matrix :\n",
      " [[ 86  24]\n",
      " [ 10 121]]\n",
      "**************************************************\n",
      "Classification Report :\n",
      "               precision    recall  f1-score   support\n",
      "\n",
      "           0       0.90      0.78      0.83       110\n",
      "           1       0.83      0.92      0.88       131\n",
      "\n",
      "    accuracy                           0.86       241\n",
      "   macro avg       0.87      0.85      0.86       241\n",
      "weighted avg       0.86      0.86      0.86       241\n",
      "\n",
      "**************************************************\n",
      "Accuracy of model : 0.8589211618257261\n",
      "**************************************************\n",
      "Area under curve : 0.8527411519777933\n"
     ]
    }
   ],
   "source": [
    "# Evaluation on Training Data\n",
    "\n",
    "y_pred_train = logistic_clf.predict(x_train)\n",
    "\n",
    "cnf_matrix = confusion_matrix(y_train, y_pred_train)\n",
    "print(\"Confusion Matrix :\\n\",cnf_matrix)\n",
    "print(\"*\"*50)\n",
    "\n",
    "clf_report = classification_report(y_train, y_pred_train)\n",
    "print(\"Classification Report :\\n\",clf_report)\n",
    "print(\"*\"*50)\n",
    "\n",
    "accuracy = accuracy_score(y_train, y_pred_train)\n",
    "print(\"Accuracy of model :\", accuracy)\n",
    "print(\"*\"*50)\n",
    "\n",
    "area_under_curve = roc_auc_score(y_train, y_pred_train)\n",
    "print(\"Area under curve :\", area_under_curve)"
   ]
  },
  {
   "cell_type": "code",
   "execution_count": null,
   "id": "0b3fb7f6",
   "metadata": {},
   "outputs": [],
   "source": [
    "                 Pred Val\n",
    "                  N     P\n",
    "    Act Val  N    86    24   >> 110   # here misclassification is in class0\n",
    "             P    10    121  >> 131    "
   ]
  },
  {
   "cell_type": "markdown",
   "id": "d19c8a36",
   "metadata": {},
   "source": [
    "#### Positive class"
   ]
  },
  {
   "cell_type": "code",
   "execution_count": 29,
   "id": "e1c7725f",
   "metadata": {},
   "outputs": [],
   "source": [
    "TN = 86\n",
    "TP = 121\n",
    "FP = 24\n",
    "FN = 10"
   ]
  },
  {
   "cell_type": "code",
   "execution_count": 30,
   "id": "0005089b",
   "metadata": {},
   "outputs": [
    {
     "data": {
      "text/plain": [
       "0.9236641221374046"
      ]
     },
     "execution_count": 30,
     "metadata": {},
     "output_type": "execute_result"
    }
   ],
   "source": [
    "Recall = TP/(TP + FN)\n",
    "Recall"
   ]
  },
  {
   "cell_type": "code",
   "execution_count": 31,
   "id": "4126cd78",
   "metadata": {},
   "outputs": [
    {
     "data": {
      "text/plain": [
       "0.8344827586206897"
      ]
     },
     "execution_count": 31,
     "metadata": {},
     "output_type": "execute_result"
    }
   ],
   "source": [
    "Precision = TP/(TP  + FP)\n",
    "Precision"
   ]
  },
  {
   "cell_type": "code",
   "execution_count": 32,
   "id": "f764abbb",
   "metadata": {},
   "outputs": [
    {
     "data": {
      "text/plain": [
       "0.8768115942028986"
      ]
     },
     "execution_count": 32,
     "metadata": {},
     "output_type": "execute_result"
    }
   ],
   "source": [
    "F1_Score = (2 * Precision * Recall) / (Precision + Recall)\n",
    "F1_Score"
   ]
  },
  {
   "cell_type": "code",
   "execution_count": 33,
   "id": "09f550fc",
   "metadata": {},
   "outputs": [
    {
     "data": {
      "text/plain": [
       "0.9236641221374046"
      ]
     },
     "execution_count": 33,
     "metadata": {},
     "output_type": "execute_result"
    }
   ],
   "source": [
    "TPR = TP/(TP+FN)\n",
    "TPR"
   ]
  },
  {
   "cell_type": "code",
   "execution_count": 34,
   "id": "00cc7a3c",
   "metadata": {},
   "outputs": [
    {
     "data": {
      "text/plain": [
       "0.21818181818181817"
      ]
     },
     "execution_count": 34,
     "metadata": {},
     "output_type": "execute_result"
    }
   ],
   "source": [
    "FPR = FP/(FP+TN)\n",
    "FPR"
   ]
  },
  {
   "cell_type": "markdown",
   "id": "2b75ab03",
   "metadata": {},
   "source": [
    "#### Negative class"
   ]
  },
  {
   "cell_type": "code",
   "execution_count": 35,
   "id": "f7f38476",
   "metadata": {},
   "outputs": [
    {
     "data": {
      "text/plain": [
       "0.8958333333333334"
      ]
     },
     "execution_count": 35,
     "metadata": {},
     "output_type": "execute_result"
    }
   ],
   "source": [
    "Precision = TN/(TN + FN)\n",
    "Precision"
   ]
  },
  {
   "cell_type": "code",
   "execution_count": 36,
   "id": "3b1ec59c",
   "metadata": {},
   "outputs": [
    {
     "data": {
      "text/plain": [
       "0.7818181818181819"
      ]
     },
     "execution_count": 36,
     "metadata": {},
     "output_type": "execute_result"
    }
   ],
   "source": [
    "Recall = TN/(TN + FP)\n",
    "Recall"
   ]
  },
  {
   "cell_type": "code",
   "execution_count": 37,
   "id": "d6cd3824",
   "metadata": {},
   "outputs": [
    {
     "data": {
      "text/plain": [
       "0.8349514563106797"
      ]
     },
     "execution_count": 37,
     "metadata": {},
     "output_type": "execute_result"
    }
   ],
   "source": [
    "F1_Score = (2 * Precision * Recall) / (Precision + Recall)\n",
    "F1_Score"
   ]
  },
  {
   "cell_type": "markdown",
   "id": "152c047a",
   "metadata": {},
   "source": [
    "#### Weighted avg"
   ]
  },
  {
   "cell_type": "code",
   "execution_count": null,
   "id": "1d27fb8f",
   "metadata": {},
   "outputs": [],
   "source": [
    ">> when our data is imbalance then go for weighted avg"
   ]
  },
  {
   "cell_type": "markdown",
   "id": "ede0fa3e",
   "metadata": {},
   "source": [
    "#### Weighted avg for precision"
   ]
  },
  {
   "cell_type": "code",
   "execution_count": 38,
   "id": "c10b4f69",
   "metadata": {},
   "outputs": [
    {
     "data": {
      "text/plain": [
       "0.8619502074688796"
      ]
     },
     "execution_count": 38,
     "metadata": {},
     "output_type": "execute_result"
    }
   ],
   "source": [
    "0.90 * (110/241) + 0.83 * (131/241)"
   ]
  },
  {
   "cell_type": "markdown",
   "id": "62a5fae8",
   "metadata": {},
   "source": [
    "#### Weighted avg for recall"
   ]
  },
  {
   "cell_type": "code",
   "execution_count": 39,
   "id": "45844d6f",
   "metadata": {},
   "outputs": [
    {
     "data": {
      "text/plain": [
       "0.8560995850622406"
      ]
     },
     "execution_count": 39,
     "metadata": {},
     "output_type": "execute_result"
    }
   ],
   "source": [
    "0.78 * (110/241) + 0.92 * (131/241)"
   ]
  },
  {
   "cell_type": "markdown",
   "id": "7a2c4d9d",
   "metadata": {},
   "source": [
    "#### Weighted avg for f1score"
   ]
  },
  {
   "cell_type": "code",
   "execution_count": 40,
   "id": "5a83bb63",
   "metadata": {},
   "outputs": [
    {
     "data": {
      "text/plain": [
       "0.8571784232365145"
      ]
     },
     "execution_count": 40,
     "metadata": {},
     "output_type": "execute_result"
    }
   ],
   "source": [
    "0.83 * (110/241) + 0.88 * (131/241)"
   ]
  },
  {
   "cell_type": "code",
   "execution_count": null,
   "id": "e9084069",
   "metadata": {},
   "outputs": [],
   "source": []
  },
  {
   "cell_type": "markdown",
   "id": "aa31c0c8",
   "metadata": {},
   "source": [
    "#### 6.2 Model Evaluation on Testing Data"
   ]
  },
  {
   "cell_type": "code",
   "execution_count": 41,
   "id": "3ab6bac5",
   "metadata": {
    "scrolled": true
   },
   "outputs": [
    {
     "name": "stdout",
     "output_type": "stream",
     "text": [
      "Confusion Matrix :\n",
      " [[22  6]\n",
      " [ 3 30]]\n",
      "**************************************************\n",
      "Classification Report :\n",
      "               precision    recall  f1-score   support\n",
      "\n",
      "           0       0.88      0.79      0.83        28\n",
      "           1       0.83      0.91      0.87        33\n",
      "\n",
      "    accuracy                           0.85        61\n",
      "   macro avg       0.86      0.85      0.85        61\n",
      "weighted avg       0.85      0.85      0.85        61\n",
      "\n",
      "**************************************************\n",
      "Accuracy of model : 0.8524590163934426\n",
      "**************************************************\n",
      "Area under curve : 0.8474025974025974\n"
     ]
    }
   ],
   "source": [
    "# Evaluation on Testing Data\n",
    "\n",
    "y_pred = logistic_clf.predict(x_test)\n",
    "\n",
    "cnf_matrix = confusion_matrix(y_test, y_pred)\n",
    "print(\"Confusion Matrix :\\n\",cnf_matrix)\n",
    "print(\"*\"*50)\n",
    "\n",
    "clf_report = classification_report(y_test, y_pred)\n",
    "print(\"Classification Report :\\n\",clf_report)\n",
    "print(\"*\"*50)\n",
    "\n",
    "accuracy = accuracy_score(y_test, y_pred)\n",
    "print(\"Accuracy of model :\", accuracy)\n",
    "print(\"*\"*50)\n",
    "\n",
    "area_under_curve = roc_auc_score(y_test, y_pred)\n",
    "print(\"Area under curve :\", area_under_curve)"
   ]
  },
  {
   "cell_type": "code",
   "execution_count": 42,
   "id": "c33d049c",
   "metadata": {},
   "outputs": [],
   "source": [
    "TN = 22\n",
    "TP = 30\n",
    "FP = 6\n",
    "FN = 3"
   ]
  },
  {
   "cell_type": "code",
   "execution_count": 43,
   "id": "ccf84152",
   "metadata": {},
   "outputs": [
    {
     "data": {
      "text/plain": [
       "0.9090909090909091"
      ]
     },
     "execution_count": 43,
     "metadata": {},
     "output_type": "execute_result"
    }
   ],
   "source": [
    "TPR = TP/(TP+FN)\n",
    "TPR"
   ]
  },
  {
   "cell_type": "code",
   "execution_count": 44,
   "id": "ee98a317",
   "metadata": {},
   "outputs": [
    {
     "data": {
      "text/plain": [
       "0.21428571428571427"
      ]
     },
     "execution_count": 44,
     "metadata": {},
     "output_type": "execute_result"
    }
   ],
   "source": [
    "FPR = FP/(FP+TN)\n",
    "FPR"
   ]
  },
  {
   "cell_type": "code",
   "execution_count": null,
   "id": "ba14a707",
   "metadata": {},
   "outputs": [],
   "source": []
  },
  {
   "cell_type": "markdown",
   "id": "fa00d116",
   "metadata": {},
   "source": [
    "### ROC Curve"
   ]
  },
  {
   "cell_type": "raw",
   "id": "396f442b",
   "metadata": {},
   "source": [
    "By using ROC curve imporve recall"
   ]
  },
  {
   "cell_type": "code",
   "execution_count": 45,
   "id": "9f3262c1",
   "metadata": {},
   "outputs": [],
   "source": [
    "# for roc curve we want probability\n",
    "y_pred_train_prob = logistic_clf.predict_proba(x_train)"
   ]
  },
  {
   "cell_type": "code",
   "execution_count": 46,
   "id": "82c48d9c",
   "metadata": {},
   "outputs": [
    {
     "data": {
      "text/plain": [
       "array([1, 1, 1, 0, 0], dtype=int64)"
      ]
     },
     "execution_count": 46,
     "metadata": {},
     "output_type": "execute_result"
    }
   ],
   "source": [
    "y_pred[25:30]"
   ]
  },
  {
   "cell_type": "code",
   "execution_count": 47,
   "id": "3a0b08a0",
   "metadata": {},
   "outputs": [
    {
     "data": {
      "text/plain": [
       "array([[0.12356478, 0.87643522],\n",
       "       [0.29776836, 0.70223164],\n",
       "       [0.09539755, 0.90460245],\n",
       "       [0.09895859, 0.90104141],\n",
       "       [0.02175739, 0.97824261]])"
      ]
     },
     "execution_count": 47,
     "metadata": {},
     "output_type": "execute_result"
    }
   ],
   "source": [
    "y_pred_train_prob[25:30]"
   ]
  },
  {
   "cell_type": "code",
   "execution_count": null,
   "id": "38ba6aa3",
   "metadata": {},
   "outputs": [],
   "source": [
    "# class1    >> pred class\n",
    "\n",
    "# default threshold == 0.5\n",
    "\n",
    "0.87643522  >> class 1\n",
    "0.70223164  >> class 1\n",
    "0.90460245  >> class 1\n",
    "0.90104141  >> class 1\n",
    "0.97824261  >> class 1\n",
    "\n",
    "y_pred_train = [1 1 1 1 1]    # y_pred_train should be equal to y_pred_train_prob"
   ]
  },
  {
   "cell_type": "code",
   "execution_count": 48,
   "id": "4474584e",
   "metadata": {},
   "outputs": [
    {
     "data": {
      "text/plain": [
       "array([1, 1, 1, 1, 1], dtype=int64)"
      ]
     },
     "execution_count": 48,
     "metadata": {},
     "output_type": "execute_result"
    }
   ],
   "source": [
    "y_pred_train[25:30]"
   ]
  },
  {
   "cell_type": "code",
   "execution_count": 49,
   "id": "59c767dc",
   "metadata": {},
   "outputs": [
    {
     "data": {
      "text/plain": [
       "array([0.        , 0.        , 0.        , 0.00909091, 0.00909091,\n",
       "       0.01818182, 0.01818182, 0.02727273, 0.02727273, 0.03636364,\n",
       "       0.03636364, 0.04545455, 0.04545455, 0.05454545, 0.05454545,\n",
       "       0.06363636, 0.06363636, 0.07272727, 0.07272727, 0.10909091,\n",
       "       0.10909091, 0.11818182, 0.11818182, 0.12727273, 0.12727273,\n",
       "       0.16363636, 0.16363636, 0.19090909, 0.19090909, 0.2       ,\n",
       "       0.2       , 0.21818182, 0.21818182, 0.22727273, 0.22727273,\n",
       "       0.25454545, 0.25454545, 0.26363636, 0.26363636, 0.27272727,\n",
       "       0.27272727, 0.43636364, 0.43636364, 0.46363636, 0.46363636,\n",
       "       0.55454545, 0.55454545, 0.61818182, 0.61818182, 0.66363636,\n",
       "       0.66363636, 1.        ])"
      ]
     },
     "execution_count": 49,
     "metadata": {},
     "output_type": "execute_result"
    }
   ],
   "source": [
    "fpr, tpr, thresh = roc_curve(y_train, y_pred_train_prob[:,1])\n",
    "fpr"
   ]
  },
  {
   "cell_type": "code",
   "execution_count": 50,
   "id": "a21658e0",
   "metadata": {},
   "outputs": [
    {
     "data": {
      "text/plain": [
       "array([0.        , 0.00763359, 0.19847328, 0.19847328, 0.26717557,\n",
       "       0.26717557, 0.40458015, 0.40458015, 0.41221374, 0.41221374,\n",
       "       0.45038168, 0.45038168, 0.49618321, 0.49618321, 0.57251908,\n",
       "       0.57251908, 0.6870229 , 0.6870229 , 0.72519084, 0.72519084,\n",
       "       0.81679389, 0.81679389, 0.88549618, 0.88549618, 0.89312977,\n",
       "       0.89312977, 0.90076336, 0.90076336, 0.90839695, 0.90839695,\n",
       "       0.91603053, 0.91603053, 0.92366412, 0.92366412, 0.93129771,\n",
       "       0.93129771, 0.9389313 , 0.9389313 , 0.94656489, 0.94656489,\n",
       "       0.95419847, 0.95419847, 0.96946565, 0.96946565, 0.97709924,\n",
       "       0.97709924, 0.98473282, 0.98473282, 0.99236641, 0.99236641,\n",
       "       1.        , 1.        ])"
      ]
     },
     "execution_count": 50,
     "metadata": {},
     "output_type": "execute_result"
    }
   ],
   "source": [
    "tpr"
   ]
  },
  {
   "cell_type": "code",
   "execution_count": 51,
   "id": "1a4afa1b",
   "metadata": {},
   "outputs": [
    {
     "data": {
      "text/plain": [
       "(52,)"
      ]
     },
     "execution_count": 51,
     "metadata": {},
     "output_type": "execute_result"
    }
   ],
   "source": [
    "tpr.shape"
   ]
  },
  {
   "cell_type": "code",
   "execution_count": 52,
   "id": "d32cc5c0",
   "metadata": {},
   "outputs": [
    {
     "data": {
      "text/plain": [
       "array([1.99396439e+00, 9.93964387e-01, 9.49603472e-01, 9.45738866e-01,\n",
       "       9.28105777e-01, 9.27920619e-01, 9.01041414e-01, 8.99679393e-01,\n",
       "       8.99396210e-01, 8.94629849e-01, 8.78236452e-01, 8.76435220e-01,\n",
       "       8.56946920e-01, 8.52529900e-01, 8.18866576e-01, 8.14261466e-01,\n",
       "       7.49790273e-01, 7.41750918e-01, 7.14932890e-01, 7.02231639e-01,\n",
       "       6.62619486e-01, 6.61044126e-01, 6.02526133e-01, 6.01426017e-01,\n",
       "       6.00674582e-01, 5.79221233e-01, 5.62667792e-01, 5.47077585e-01,\n",
       "       5.37402279e-01, 5.34915918e-01, 5.28119552e-01, 5.15749509e-01,\n",
       "       5.15510696e-01, 4.90886054e-01, 4.85445652e-01, 4.55039430e-01,\n",
       "       4.41692341e-01, 4.39329541e-01, 4.35050410e-01, 4.20436979e-01,\n",
       "       3.92290725e-01, 1.68404986e-01, 1.61428760e-01, 1.31919618e-01,\n",
       "       1.31247636e-01, 8.96779358e-02, 8.45463496e-02, 6.96582282e-02,\n",
       "       5.85346619e-02, 4.18192508e-02, 4.05649750e-02, 1.64379984e-03])"
      ]
     },
     "execution_count": 52,
     "metadata": {},
     "output_type": "execute_result"
    }
   ],
   "source": [
    "thresh"
   ]
  },
  {
   "cell_type": "code",
   "execution_count": 53,
   "id": "16c16aef",
   "metadata": {},
   "outputs": [
    {
     "data": {
      "text/plain": [
       "(52,)"
      ]
     },
     "execution_count": 53,
     "metadata": {},
     "output_type": "execute_result"
    }
   ],
   "source": [
    "thresh.shape   # here we have 66 threshold"
   ]
  },
  {
   "cell_type": "code",
   "execution_count": null,
   "id": "d6946634",
   "metadata": {},
   "outputs": [],
   "source": [
    "NOTE:\n",
    ">> if we are changing fpr & tpr then threshold also changes at that stage."
   ]
  },
  {
   "cell_type": "code",
   "execution_count": 54,
   "id": "fe4d6c72",
   "metadata": {},
   "outputs": [
    {
     "data": {
      "text/plain": [
       "(array([33, 34], dtype=int64),)"
      ]
     },
     "execution_count": 54,
     "metadata": {},
     "output_type": "execute_result"
    }
   ],
   "source": [
    "# here we find 0.5 thresh index\n",
    "\n",
    "np.where(np.around(thresh,2) == 0.49)"
   ]
  },
  {
   "cell_type": "code",
   "execution_count": 55,
   "id": "5e727ff9",
   "metadata": {},
   "outputs": [
    {
     "data": {
      "text/plain": [
       "0.490886053911827"
      ]
     },
     "execution_count": 55,
     "metadata": {},
     "output_type": "execute_result"
    }
   ],
   "source": [
    "thresh[33]"
   ]
  },
  {
   "cell_type": "code",
   "execution_count": 56,
   "id": "3009dc59",
   "metadata": {},
   "outputs": [
    {
     "data": {
      "text/plain": [
       "0.9236641221374046"
      ]
     },
     "execution_count": 56,
     "metadata": {},
     "output_type": "execute_result"
    }
   ],
   "source": [
    "# here we find tpr at 0.5 thresh\n",
    "tpr[33]"
   ]
  },
  {
   "cell_type": "code",
   "execution_count": 57,
   "id": "acfcdd98",
   "metadata": {},
   "outputs": [
    {
     "data": {
      "text/plain": [
       "0.22727272727272727"
      ]
     },
     "execution_count": 57,
     "metadata": {},
     "output_type": "execute_result"
    }
   ],
   "source": [
    "# here we find tpr at 0.5 thresh\n",
    "fpr[33]"
   ]
  },
  {
   "cell_type": "code",
   "execution_count": 58,
   "id": "46e0075c",
   "metadata": {},
   "outputs": [
    {
     "data": {
      "image/png": "[encoded data removed]",
      "text/plain": [
       "<Figure size 640x480 with 1 Axes>"
      ]
     },
     "metadata": {},
     "output_type": "display_data"
    }
   ],
   "source": [
    "plt.title('ROC Curve')\n",
    "plt.plot(fpr, tpr)\n",
    "plt.xlabel(\"False Positive Rate (FPR)\")\n",
    "plt.ylabel(\"True Positive Rate (TPR)\")\n",
    "plt.savefig(\"ROC_Curve.png\")"
   ]
  },
  {
   "cell_type": "code",
   "execution_count": null,
   "id": "c460bfea",
   "metadata": {},
   "outputs": [],
   "source": []
  },
  {
   "cell_type": "code",
   "execution_count": 63,
   "id": "88cdb0fa",
   "metadata": {},
   "outputs": [
    {
     "data": {
      "application/vnd.plotly.v1+json": {
       "config": {
        "plotlyServerURL": "https://plot.ly"
       },
       "data": [
        {
         "hovertemplate": "x=%{x}<br>y=%{y}<extra></extra>",
         "legendgroup": "",
         "marker": {
          "color": "#636efa",
          "symbol": "circle"
         },
         "mode": "markers",
         "name": "",
         "orientation": "v",
         "showlegend": false,
         "type": "scatter",
         "x": [
          0,
          0,
          0,
          0.00909090909090909,
          0.00909090909090909,
          0.01818181818181818,
          0.01818181818181818,
          0.02727272727272727,
          0.02727272727272727,
          0.03636363636363636,
          0.03636363636363636,
          0.045454545454545456,
          0.045454545454545456,
          0.05454545454545454,
          0.05454545454545454,
          0.06363636363636363,
          0.06363636363636363,
          0.07272727272727272,
          0.07272727272727272,
          0.10909090909090909,
          0.10909090909090909,
          0.11818181818181818,
          0.11818181818181818,
          0.12727272727272726,
          0.12727272727272726,
          0.16363636363636364,
          0.16363636363636364,
          0.19090909090909092,
          0.19090909090909092,
          0.2,
          0.2,
          0.21818181818181817,
          0.21818181818181817,
          0.22727272727272727,
          0.22727272727272727,
          0.2545454545454545,
          0.2545454545454545,
          0.2636363636363636,
          0.2636363636363636,
          0.2727272727272727,
          0.2727272727272727,
          0.43636363636363634,
          0.43636363636363634,
          0.4636363636363636,
          0.4636363636363636,
          0.5545454545454546,
          0.5545454545454546,
          0.6181818181818182,
          0.6181818181818182,
          0.6636363636363637,
          0.6636363636363637,
          1
         ],
         "xaxis": "x",
         "y": [
          0,
          0.007633587786259542,
          0.1984732824427481,
          0.1984732824427481,
          0.26717557251908397,
          0.26717557251908397,
          0.40458015267175573,
          0.40458015267175573,
          0.4122137404580153,
          0.4122137404580153,
          0.45038167938931295,
          0.45038167938931295,
          0.4961832061068702,
          0.4961832061068702,
          0.5725190839694656,
          0.5725190839694656,
          0.6870229007633588,
          0.6870229007633588,
          0.7251908396946565,
          0.7251908396946565,
          0.816793893129771,
          0.816793893129771,
          0.8854961832061069,
          0.8854961832061069,
          0.8931297709923665,
          0.8931297709923665,
          0.9007633587786259,
          0.9007633587786259,
          0.9083969465648855,
          0.9083969465648855,
          0.916030534351145,
          0.916030534351145,
          0.9236641221374046,
          0.9236641221374046,
          0.9312977099236641,
          0.9312977099236641,
          0.9389312977099237,
          0.9389312977099237,
          0.9465648854961832,
          0.9465648854961832,
          0.9541984732824428,
          0.9541984732824428,
          0.9694656488549618,
          0.9694656488549618,
          0.9770992366412213,
          0.9770992366412213,
          0.9847328244274809,
          0.9847328244274809,
          0.9923664122137404,
          0.9923664122137404,
          1,
          1
         ],
         "yaxis": "y"
        }
       ],
       "layout": {
        "legend": {
         "tracegroupgap": 0
        },
        "margin": {
         "t": 60
        },
        "template": {
         "data": {
          "bar": [
           {
            "error_x": {
             "color": "#2a3f5f"
            },
            "error_y": {
             "color": "#2a3f5f"
            },
            "marker": {
             "line": {
              "color": "#E5ECF6",
              "width": 0.5
             },
             "pattern": {
              "fillmode": "overlay",
              "size": 10,
              "solidity": 0.2
             }
            },
            "type": "bar"
           }
          ],
          "barpolar": [
           {
            "marker": {
             "line": {
              "color": "#E5ECF6",
              "width": 0.5
             },
             "pattern": {
              "fillmode": "overlay",
              "size": 10,
              "solidity": 0.2
             }
            },
            "type": "barpolar"
           }
          ],
          "carpet": [
           {
            "aaxis": {
             "endlinecolor": "#2a3f5f",
             "gridcolor": "white",
             "linecolor": "white",
             "minorgridcolor": "white",
             "startlinecolor": "#2a3f5f"
            },
            "baxis": {
             "endlinecolor": "#2a3f5f",
             "gridcolor": "white",
             "linecolor": "white",
             "minorgridcolor": "white",
             "startlinecolor": "#2a3f5f"
            },
            "type": "carpet"
           }
          ],
          "choropleth": [
           {
            "colorbar": {
             "outlinewidth": 0,
             "ticks": ""
            },
            "type": "choropleth"
           }
          ],
          "contour": [
           {
            "colorbar": {
             "outlinewidth": 0,
             "ticks": ""
            },
            "colorscale": [
             [
              0,
              "#0d0887"
             ],
             [
              0.1111111111111111,
              "#46039f"
             ],
             [
              0.2222222222222222,
              "#7201a8"
             ],
             [
              0.3333333333333333,
              "#9c179e"
             ],
             [
              0.4444444444444444,
              "#bd3786"
             ],
             [
              0.5555555555555556,
              "#d8576b"
             ],
             [
              0.6666666666666666,
              "#ed7953"
             ],
             [
              0.7777777777777778,
              "#fb9f3a"
             ],
             [
              0.8888888888888888,
              "#fdca26"
             ],
             [
              1,
              "#f0f921"
             ]
            ],
            "type": "contour"
           }
          ],
          "contourcarpet": [
           {
            "colorbar": {
             "outlinewidth": 0,
             "ticks": ""
            },
            "type": "contourcarpet"
           }
          ],
          "heatmap": [
           {
            "colorbar": {
             "outlinewidth": 0,
             "ticks": ""
            },
            "colorscale": [
             [
              0,
              "#0d0887"
             ],
             [
              0.1111111111111111,
              "#46039f"
             ],
             [
              0.2222222222222222,
              "#7201a8"
             ],
             [
              0.3333333333333333,
              "#9c179e"
             ],
             [
              0.4444444444444444,
              "#bd3786"
             ],
             [
              0.5555555555555556,
              "#d8576b"
             ],
             [
              0.6666666666666666,
              "#ed7953"
             ],
             [
              0.7777777777777778,
              "#fb9f3a"
             ],
             [
              0.8888888888888888,
              "#fdca26"
             ],
             [
              1,
              "#f0f921"
             ]
            ],
            "type": "heatmap"
           }
          ],
          "heatmapgl": [
           {
            "colorbar": {
             "outlinewidth": 0,
             "ticks": ""
            },
            "colorscale": [
             [
              0,
              "#0d0887"
             ],
             [
              0.1111111111111111,
              "#46039f"
             ],
             [
              0.2222222222222222,
              "#7201a8"
             ],
             [
              0.3333333333333333,
              "#9c179e"
             ],
             [
              0.4444444444444444,
              "#bd3786"
             ],
             [
              0.5555555555555556,
              "#d8576b"
             ],
             [
              0.6666666666666666,
              "#ed7953"
             ],
             [
              0.7777777777777778,
              "#fb9f3a"
             ],
             [
              0.8888888888888888,
              "#fdca26"
             ],
             [
              1,
              "#f0f921"
             ]
            ],
            "type": "heatmapgl"
           }
          ],
          "histogram": [
           {
            "marker": {
             "pattern": {
              "fillmode": "overlay",
              "size": 10,
              "solidity": 0.2
             }
            },
            "type": "histogram"
           }
          ],
          "histogram2d": [
           {
            "colorbar": {
             "outlinewidth": 0,
             "ticks": ""
            },
            "colorscale": [
             [
              0,
              "#0d0887"
             ],
             [
              0.1111111111111111,
              "#46039f"
             ],
             [
              0.2222222222222222,
              "#7201a8"
             ],
             [
              0.3333333333333333,
              "#9c179e"
             ],
             [
              0.4444444444444444,
              "#bd3786"
             ],
             [
              0.5555555555555556,
              "#d8576b"
             ],
             [
              0.6666666666666666,
              "#ed7953"
             ],
             [
              0.7777777777777778,
              "#fb9f3a"
             ],
             [
              0.8888888888888888,
              "#fdca26"
             ],
             [
              1,
              "#f0f921"
             ]
            ],
            "type": "histogram2d"
           }
          ],
          "histogram2dcontour": [
           {
            "colorbar": {
             "outlinewidth": 0,
             "ticks": ""
            },
            "colorscale": [
             [
              0,
              "#0d0887"
             ],
             [
              0.1111111111111111,
              "#46039f"
             ],
             [
              0.2222222222222222,
              "#7201a8"
             ],
             [
              0.3333333333333333,
              "#9c179e"
             ],
             [
              0.4444444444444444,
              "#bd3786"
             ],
             [
              0.5555555555555556,
              "#d8576b"
             ],
             [
              0.6666666666666666,
              "#ed7953"
             ],
             [
              0.7777777777777778,
              "#fb9f3a"
             ],
             [
              0.8888888888888888,
              "#fdca26"
             ],
             [
              1,
              "#f0f921"
             ]
            ],
            "type": "histogram2dcontour"
           }
          ],
          "mesh3d": [
           {
            "colorbar": {
             "outlinewidth": 0,
             "ticks": ""
            },
            "type": "mesh3d"
           }
          ],
          "parcoords": [
           {
            "line": {
             "colorbar": {
              "outlinewidth": 0,
              "ticks": ""
             }
            },
            "type": "parcoords"
           }
          ],
          "pie": [
           {
            "automargin": true,
            "type": "pie"
           }
          ],
          "scatter": [
           {
            "fillpattern": {
             "fillmode": "overlay",
             "size": 10,
             "solidity": 0.2
            },
            "type": "scatter"
           }
          ],
          "scatter3d": [
           {
            "line": {
             "colorbar": {
              "outlinewidth": 0,
              "ticks": ""
             }
            },
            "marker": {
             "colorbar": {
              "outlinewidth": 0,
              "ticks": ""
             }
            },
            "type": "scatter3d"
           }
          ],
          "scattercarpet": [
           {
            "marker": {
             "colorbar": {
              "outlinewidth": 0,
              "ticks": ""
             }
            },
            "type": "scattercarpet"
           }
          ],
          "scattergeo": [
           {
            "marker": {
             "colorbar": {
              "outlinewidth": 0,
              "ticks": ""
             }
            },
            "type": "scattergeo"
           }
          ],
          "scattergl": [
           {
            "marker": {
             "colorbar": {
              "outlinewidth": 0,
              "ticks": ""
             }
            },
            "type": "scattergl"
           }
          ],
          "scattermapbox": [
           {
            "marker": {
             "colorbar": {
              "outlinewidth": 0,
              "ticks": ""
             }
            },
            "type": "scattermapbox"
           }
          ],
          "scatterpolar": [
           {
            "marker": {
             "colorbar": {
              "outlinewidth": 0,
              "ticks": ""
             }
            },
            "type": "scatterpolar"
           }
          ],
          "scatterpolargl": [
           {
            "marker": {
             "colorbar": {
              "outlinewidth": 0,
              "ticks": ""
             }
            },
            "type": "scatterpolargl"
           }
          ],
          "scatterternary": [
           {
            "marker": {
             "colorbar": {
              "outlinewidth": 0,
              "ticks": ""
             }
            },
            "type": "scatterternary"
           }
          ],
          "surface": [
           {
            "colorbar": {
             "outlinewidth": 0,
             "ticks": ""
            },
            "colorscale": [
             [
              0,
              "#0d0887"
             ],
             [
              0.1111111111111111,
              "#46039f"
             ],
             [
              0.2222222222222222,
              "#7201a8"
             ],
             [
              0.3333333333333333,
              "#9c179e"
             ],
             [
              0.4444444444444444,
              "#bd3786"
             ],
             [
              0.5555555555555556,
              "#d8576b"
             ],
             [
              0.6666666666666666,
              "#ed7953"
             ],
             [
              0.7777777777777778,
              "#fb9f3a"
             ],
             [
              0.8888888888888888,
              "#fdca26"
             ],
             [
              1,
              "#f0f921"
             ]
            ],
            "type": "surface"
           }
          ],
          "table": [
           {
            "cells": {
             "fill": {
              "color": "#EBF0F8"
             },
             "line": {
              "color": "white"
             }
            },
            "header": {
             "fill": {
              "color": "#C8D4E3"
             },
             "line": {
              "color": "white"
             }
            },
            "type": "table"
           }
          ]
         },
         "layout": {
          "annotationdefaults": {
           "arrowcolor": "#2a3f5f",
           "arrowhead": 0,
           "arrowwidth": 1
          },
          "autotypenumbers": "strict",
          "coloraxis": {
           "colorbar": {
            "outlinewidth": 0,
            "ticks": ""
           }
          },
          "colorscale": {
           "diverging": [
            [
             0,
             "#8e0152"
            ],
            [
             0.1,
             "#c51b7d"
            ],
            [
             0.2,
             "#de77ae"
            ],
            [
             0.3,
             "#f1b6da"
            ],
            [
             0.4,
             "#fde0ef"
            ],
            [
             0.5,
             "#f7f7f7"
            ],
            [
             0.6,
             "#e6f5d0"
            ],
            [
             0.7,
             "#b8e186"
            ],
            [
             0.8,
             "#7fbc41"
            ],
            [
             0.9,
             "#4d9221"
            ],
            [
             1,
             "#276419"
            ]
           ],
           "sequential": [
            [
             0,
             "#0d0887"
            ],
            [
             0.1111111111111111,
             "#46039f"
            ],
            [
             0.2222222222222222,
             "#7201a8"
            ],
            [
             0.3333333333333333,
             "#9c179e"
            ],
            [
             0.4444444444444444,
             "#bd3786"
            ],
            [
             0.5555555555555556,
             "#d8576b"
            ],
            [
             0.6666666666666666,
             "#ed7953"
            ],
            [
             0.7777777777777778,
             "#fb9f3a"
            ],
            [
             0.8888888888888888,
             "#fdca26"
            ],
            [
             1,
             "#f0f921"
            ]
           ],
           "sequentialminus": [
            [
             0,
             "#0d0887"
            ],
            [
             0.1111111111111111,
             "#46039f"
            ],
            [
             0.2222222222222222,
             "#7201a8"
            ],
            [
             0.3333333333333333,
             "#9c179e"
            ],
            [
             0.4444444444444444,
             "#bd3786"
            ],
            [
             0.5555555555555556,
             "#d8576b"
            ],
            [
             0.6666666666666666,
             "#ed7953"
            ],
            [
             0.7777777777777778,
             "#fb9f3a"
            ],
            [
             0.8888888888888888,
             "#fdca26"
            ],
            [
             1,
             "#f0f921"
            ]
           ]
          },
          "colorway": [
           "#636efa",
           "#EF553B",
           "#00cc96",
           "#ab63fa",
           "#FFA15A",
           "#19d3f3",
           "#FF6692",
           "#B6E880",
           "#FF97FF",
           "#FECB52"
          ],
          "font": {
           "color": "#2a3f5f"
          },
          "geo": {
           "bgcolor": "white",
           "lakecolor": "white",
           "landcolor": "#E5ECF6",
           "showlakes": true,
           "showland": true,
           "subunitcolor": "white"
          },
          "hoverlabel": {
           "align": "left"
          },
          "hovermode": "closest",
          "mapbox": {
           "style": "light"
          },
          "paper_bgcolor": "white",
          "plot_bgcolor": "#E5ECF6",
          "polar": {
           "angularaxis": {
            "gridcolor": "white",
            "linecolor": "white",
            "ticks": ""
           },
           "bgcolor": "#E5ECF6",
           "radialaxis": {
            "gridcolor": "white",
            "linecolor": "white",
            "ticks": ""
           }
          },
          "scene": {
           "xaxis": {
            "backgroundcolor": "#E5ECF6",
            "gridcolor": "white",
            "gridwidth": 2,
            "linecolor": "white",
            "showbackground": true,
            "ticks": "",
            "zerolinecolor": "white"
           },
           "yaxis": {
            "backgroundcolor": "#E5ECF6",
            "gridcolor": "white",
            "gridwidth": 2,
            "linecolor": "white",
            "showbackground": true,
            "ticks": "",
            "zerolinecolor": "white"
           },
           "zaxis": {
            "backgroundcolor": "#E5ECF6",
            "gridcolor": "white",
            "gridwidth": 2,
            "linecolor": "white",
            "showbackground": true,
            "ticks": "",
            "zerolinecolor": "white"
           }
          },
          "shapedefaults": {
           "line": {
            "color": "#2a3f5f"
           }
          },
          "ternary": {
           "aaxis": {
            "gridcolor": "white",
            "linecolor": "white",
            "ticks": ""
           },
           "baxis": {
            "gridcolor": "white",
            "linecolor": "white",
            "ticks": ""
           },
           "bgcolor": "#E5ECF6",
           "caxis": {
            "gridcolor": "white",
            "linecolor": "white",
            "ticks": ""
           }
          },
          "title": {
           "x": 0.05
          },
          "xaxis": {
           "automargin": true,
           "gridcolor": "white",
           "linecolor": "white",
           "ticks": "",
           "title": {
            "standoff": 15
           },
           "zerolinecolor": "white",
           "zerolinewidth": 2
          },
          "yaxis": {
           "automargin": true,
           "gridcolor": "white",
           "linecolor": "white",
           "ticks": "",
           "title": {
            "standoff": 15
           },
           "zerolinecolor": "white",
           "zerolinewidth": 2
          }
         }
        },
        "xaxis": {
         "anchor": "y",
         "domain": [
          0,
          1
         ],
         "title": {
          "text": "x"
         }
        },
        "yaxis": {
         "anchor": "x",
         "domain": [
          0,
          1
         ],
         "title": {
          "text": "y"
         }
        }
       }
      },
      "text/html": [
       "<div>                            <div id=\"c37e9a2d-5d28-47e9-9436-b6017ae76a92\" class=\"plotly-graph-div\" style=\"height:525px; width:100%;\"></div>            <script type=\"text/javascript\">                require([\"plotly\"], function(Plotly) {                    window.PLOTLYENV=window.PLOTLYENV || {};                                    if (document.getElementById(\"c37e9a2d-5d28-47e9-9436-b6017ae76a92\")) {                    Plotly.newPlot(                        \"c37e9a2d-5d28-47e9-9436-b6017ae76a92\",                        [{\"hovertemplate\":\"x=%{x}<br>y=%{y}<extra></extra>\",\"legendgroup\":\"\",\"marker\":{\"color\":\"#636efa\",\"symbol\":\"circle\"},\"mode\":\"markers\",\"name\":\"\",\"orientation\":\"v\",\"showlegend\":false,\"x\":[0.0,0.0,0.0,0.00909090909090909,0.00909090909090909,0.01818181818181818,0.01818181818181818,0.02727272727272727,0.02727272727272727,0.03636363636363636,0.03636363636363636,0.045454545454545456,0.045454545454545456,0.05454545454545454,0.05454545454545454,0.06363636363636363,0.06363636363636363,0.07272727272727272,0.07272727272727272,0.10909090909090909,0.10909090909090909,0.11818181818181818,0.11818181818181818,0.12727272727272726,0.12727272727272726,0.16363636363636364,0.16363636363636364,0.19090909090909092,0.19090909090909092,0.2,0.2,0.21818181818181817,0.21818181818181817,0.22727272727272727,0.22727272727272727,0.2545454545454545,0.2545454545454545,0.2636363636363636,0.2636363636363636,0.2727272727272727,0.2727272727272727,0.43636363636363634,0.43636363636363634,0.4636363636363636,0.4636363636363636,0.5545454545454546,0.5545454545454546,0.6181818181818182,0.6181818181818182,0.6636363636363637,0.6636363636363637,1.0],\"xaxis\":\"x\",\"y\":[0.0,0.007633587786259542,0.1984732824427481,0.1984732824427481,0.26717557251908397,0.26717557251908397,0.40458015267175573,0.40458015267175573,0.4122137404580153,0.4122137404580153,0.45038167938931295,0.45038167938931295,0.4961832061068702,0.4961832061068702,0.5725190839694656,0.5725190839694656,0.6870229007633588,0.6870229007633588,0.7251908396946565,0.7251908396946565,0.816793893129771,0.816793893129771,0.8854961832061069,0.8854961832061069,0.8931297709923665,0.8931297709923665,0.9007633587786259,0.9007633587786259,0.9083969465648855,0.9083969465648855,0.916030534351145,0.916030534351145,0.9236641221374046,0.9236641221374046,0.9312977099236641,0.9312977099236641,0.9389312977099237,0.9389312977099237,0.9465648854961832,0.9465648854961832,0.9541984732824428,0.9541984732824428,0.9694656488549618,0.9694656488549618,0.9770992366412213,0.9770992366412213,0.9847328244274809,0.9847328244274809,0.9923664122137404,0.9923664122137404,1.0,1.0],\"yaxis\":\"y\",\"type\":\"scatter\"}],                        {\"template\":{\"data\":{\"histogram2dcontour\":[{\"type\":\"histogram2dcontour\",\"colorbar\":{\"outlinewidth\":0,\"ticks\":\"\"},\"colorscale\":[[0.0,\"#0d0887\"],[0.1111111111111111,\"#46039f\"],[0.2222222222222222,\"#7201a8\"],[0.3333333333333333,\"#9c179e\"],[0.4444444444444444,\"#bd3786\"],[0.5555555555555556,\"#d8576b\"],[0.6666666666666666,\"#ed7953\"],[0.7777777777777778,\"#fb9f3a\"],[0.8888888888888888,\"#fdca26\"],[1.0,\"#f0f921\"]]}],\"choropleth\":[{\"type\":\"choropleth\",\"colorbar\":{\"outlinewidth\":0,\"ticks\":\"\"}}],\"histogram2d\":[{\"type\":\"histogram2d\",\"colorbar\":{\"outlinewidth\":0,\"ticks\":\"\"},\"colorscale\":[[0.0,\"#0d0887\"],[0.1111111111111111,\"#46039f\"],[0.2222222222222222,\"#7201a8\"],[0.3333333333333333,\"#9c179e\"],[0.4444444444444444,\"#bd3786\"],[0.5555555555555556,\"#d8576b\"],[0.6666666666666666,\"#ed7953\"],[0.7777777777777778,\"#fb9f3a\"],[0.8888888888888888,\"#fdca26\"],[1.0,\"#f0f921\"]]}],\"heatmap\":[{\"type\":\"heatmap\",\"colorbar\":{\"outlinewidth\":0,\"ticks\":\"\"},\"colorscale\":[[0.0,\"#0d0887\"],[0.1111111111111111,\"#46039f\"],[0.2222222222222222,\"#7201a8\"],[0.3333333333333333,\"#9c179e\"],[0.4444444444444444,\"#bd3786\"],[0.5555555555555556,\"#d8576b\"],[0.6666666666666666,\"#ed7953\"],[0.7777777777777778,\"#fb9f3a\"],[0.8888888888888888,\"#fdca26\"],[1.0,\"#f0f921\"]]}],\"heatmapgl\":[{\"type\":\"heatmapgl\",\"colorbar\":{\"outlinewidth\":0,\"ticks\":\"\"},\"colorscale\":[[0.0,\"#0d0887\"],[0.1111111111111111,\"#46039f\"],[0.2222222222222222,\"#7201a8\"],[0.3333333333333333,\"#9c179e\"],[0.4444444444444444,\"#bd3786\"],[0.5555555555555556,\"#d8576b\"],[0.6666666666666666,\"#ed7953\"],[0.7777777777777778,\"#fb9f3a\"],[0.8888888888888888,\"#fdca26\"],[1.0,\"#f0f921\"]]}],\"contourcarpet\":[{\"type\":\"contourcarpet\",\"colorbar\":{\"outlinewidth\":0,\"ticks\":\"\"}}],\"contour\":[{\"type\":\"contour\",\"colorbar\":{\"outlinewidth\":0,\"ticks\":\"\"},\"colorscale\":[[0.0,\"#0d0887\"],[0.1111111111111111,\"#46039f\"],[0.2222222222222222,\"#7201a8\"],[0.3333333333333333,\"#9c179e\"],[0.4444444444444444,\"#bd3786\"],[0.5555555555555556,\"#d8576b\"],[0.6666666666666666,\"#ed7953\"],[0.7777777777777778,\"#fb9f3a\"],[0.8888888888888888,\"#fdca26\"],[1.0,\"#f0f921\"]]}],\"surface\":[{\"type\":\"surface\",\"colorbar\":{\"outlinewidth\":0,\"ticks\":\"\"},\"colorscale\":[[0.0,\"#0d0887\"],[0.1111111111111111,\"#46039f\"],[0.2222222222222222,\"#7201a8\"],[0.3333333333333333,\"#9c179e\"],[0.4444444444444444,\"#bd3786\"],[0.5555555555555556,\"#d8576b\"],[0.6666666666666666,\"#ed7953\"],[0.7777777777777778,\"#fb9f3a\"],[0.8888888888888888,\"#fdca26\"],[1.0,\"#f0f921\"]]}],\"mesh3d\":[{\"type\":\"mesh3d\",\"colorbar\":{\"outlinewidth\":0,\"ticks\":\"\"}}],\"scatter\":[{\"fillpattern\":{\"fillmode\":\"overlay\",\"size\":10,\"solidity\":0.2},\"type\":\"scatter\"}],\"parcoords\":[{\"type\":\"parcoords\",\"line\":{\"colorbar\":{\"outlinewidth\":0,\"ticks\":\"\"}}}],\"scatterpolargl\":[{\"type\":\"scatterpolargl\",\"marker\":{\"colorbar\":{\"outlinewidth\":0,\"ticks\":\"\"}}}],\"bar\":[{\"error_x\":{\"color\":\"#2a3f5f\"},\"error_y\":{\"color\":\"#2a3f5f\"},\"marker\":{\"line\":{\"color\":\"#E5ECF6\",\"width\":0.5},\"pattern\":{\"fillmode\":\"overlay\",\"size\":10,\"solidity\":0.2}},\"type\":\"bar\"}],\"scattergeo\":[{\"type\":\"scattergeo\",\"marker\":{\"colorbar\":{\"outlinewidth\":0,\"ticks\":\"\"}}}],\"scatterpolar\":[{\"type\":\"scatterpolar\",\"marker\":{\"colorbar\":{\"outlinewidth\":0,\"ticks\":\"\"}}}],\"histogram\":[{\"marker\":{\"pattern\":{\"fillmode\":\"overlay\",\"size\":10,\"solidity\":0.2}},\"type\":\"histogram\"}],\"scattergl\":[{\"type\":\"scattergl\",\"marker\":{\"colorbar\":{\"outlinewidth\":0,\"ticks\":\"\"}}}],\"scatter3d\":[{\"type\":\"scatter3d\",\"line\":{\"colorbar\":{\"outlinewidth\":0,\"ticks\":\"\"}},\"marker\":{\"colorbar\":{\"outlinewidth\":0,\"ticks\":\"\"}}}],\"scattermapbox\":[{\"type\":\"scattermapbox\",\"marker\":{\"colorbar\":{\"outlinewidth\":0,\"ticks\":\"\"}}}],\"scatterternary\":[{\"type\":\"scatterternary\",\"marker\":{\"colorbar\":{\"outlinewidth\":0,\"ticks\":\"\"}}}],\"scattercarpet\":[{\"type\":\"scattercarpet\",\"marker\":{\"colorbar\":{\"outlinewidth\":0,\"ticks\":\"\"}}}],\"carpet\":[{\"aaxis\":{\"endlinecolor\":\"#2a3f5f\",\"gridcolor\":\"white\",\"linecolor\":\"white\",\"minorgridcolor\":\"white\",\"startlinecolor\":\"#2a3f5f\"},\"baxis\":{\"endlinecolor\":\"#2a3f5f\",\"gridcolor\":\"white\",\"linecolor\":\"white\",\"minorgridcolor\":\"white\",\"startlinecolor\":\"#2a3f5f\"},\"type\":\"carpet\"}],\"table\":[{\"cells\":{\"fill\":{\"color\":\"#EBF0F8\"},\"line\":{\"color\":\"white\"}},\"header\":{\"fill\":{\"color\":\"#C8D4E3\"},\"line\":{\"color\":\"white\"}},\"type\":\"table\"}],\"barpolar\":[{\"marker\":{\"line\":{\"color\":\"#E5ECF6\",\"width\":0.5},\"pattern\":{\"fillmode\":\"overlay\",\"size\":10,\"solidity\":0.2}},\"type\":\"barpolar\"}],\"pie\":[{\"automargin\":true,\"type\":\"pie\"}]},\"layout\":{\"autotypenumbers\":\"strict\",\"colorway\":[\"#636efa\",\"#EF553B\",\"#00cc96\",\"#ab63fa\",\"#FFA15A\",\"#19d3f3\",\"#FF6692\",\"#B6E880\",\"#FF97FF\",\"#FECB52\"],\"font\":{\"color\":\"#2a3f5f\"},\"hovermode\":\"closest\",\"hoverlabel\":{\"align\":\"left\"},\"paper_bgcolor\":\"white\",\"plot_bgcolor\":\"#E5ECF6\",\"polar\":{\"bgcolor\":\"#E5ECF6\",\"angularaxis\":{\"gridcolor\":\"white\",\"linecolor\":\"white\",\"ticks\":\"\"},\"radialaxis\":{\"gridcolor\":\"white\",\"linecolor\":\"white\",\"ticks\":\"\"}},\"ternary\":{\"bgcolor\":\"#E5ECF6\",\"aaxis\":{\"gridcolor\":\"white\",\"linecolor\":\"white\",\"ticks\":\"\"},\"baxis\":{\"gridcolor\":\"white\",\"linecolor\":\"white\",\"ticks\":\"\"},\"caxis\":{\"gridcolor\":\"white\",\"linecolor\":\"white\",\"ticks\":\"\"}},\"coloraxis\":{\"colorbar\":{\"outlinewidth\":0,\"ticks\":\"\"}},\"colorscale\":{\"sequential\":[[0.0,\"#0d0887\"],[0.1111111111111111,\"#46039f\"],[0.2222222222222222,\"#7201a8\"],[0.3333333333333333,\"#9c179e\"],[0.4444444444444444,\"#bd3786\"],[0.5555555555555556,\"#d8576b\"],[0.6666666666666666,\"#ed7953\"],[0.7777777777777778,\"#fb9f3a\"],[0.8888888888888888,\"#fdca26\"],[1.0,\"#f0f921\"]],\"sequentialminus\":[[0.0,\"#0d0887\"],[0.1111111111111111,\"#46039f\"],[0.2222222222222222,\"#7201a8\"],[0.3333333333333333,\"#9c179e\"],[0.4444444444444444,\"#bd3786\"],[0.5555555555555556,\"#d8576b\"],[0.6666666666666666,\"#ed7953\"],[0.7777777777777778,\"#fb9f3a\"],[0.8888888888888888,\"#fdca26\"],[1.0,\"#f0f921\"]],\"diverging\":[[0,\"#8e0152\"],[0.1,\"#c51b7d\"],[0.2,\"#de77ae\"],[0.3,\"#f1b6da\"],[0.4,\"#fde0ef\"],[0.5,\"#f7f7f7\"],[0.6,\"#e6f5d0\"],[0.7,\"#b8e186\"],[0.8,\"#7fbc41\"],[0.9,\"#4d9221\"],[1,\"#276419\"]]},\"xaxis\":{\"gridcolor\":\"white\",\"linecolor\":\"white\",\"ticks\":\"\",\"title\":{\"standoff\":15},\"zerolinecolor\":\"white\",\"automargin\":true,\"zerolinewidth\":2},\"yaxis\":{\"gridcolor\":\"white\",\"linecolor\":\"white\",\"ticks\":\"\",\"title\":{\"standoff\":15},\"zerolinecolor\":\"white\",\"automargin\":true,\"zerolinewidth\":2},\"scene\":{\"xaxis\":{\"backgroundcolor\":\"#E5ECF6\",\"gridcolor\":\"white\",\"linecolor\":\"white\",\"showbackground\":true,\"ticks\":\"\",\"zerolinecolor\":\"white\",\"gridwidth\":2},\"yaxis\":{\"backgroundcolor\":\"#E5ECF6\",\"gridcolor\":\"white\",\"linecolor\":\"white\",\"showbackground\":true,\"ticks\":\"\",\"zerolinecolor\":\"white\",\"gridwidth\":2},\"zaxis\":{\"backgroundcolor\":\"#E5ECF6\",\"gridcolor\":\"white\",\"linecolor\":\"white\",\"showbackground\":true,\"ticks\":\"\",\"zerolinecolor\":\"white\",\"gridwidth\":2}},\"shapedefaults\":{\"line\":{\"color\":\"#2a3f5f\"}},\"annotationdefaults\":{\"arrowcolor\":\"#2a3f5f\",\"arrowhead\":0,\"arrowwidth\":1},\"geo\":{\"bgcolor\":\"white\",\"landcolor\":\"#E5ECF6\",\"subunitcolor\":\"white\",\"showland\":true,\"showlakes\":true,\"lakecolor\":\"white\"},\"title\":{\"x\":0.05},\"mapbox\":{\"style\":\"light\"}}},\"xaxis\":{\"anchor\":\"y\",\"domain\":[0.0,1.0],\"title\":{\"text\":\"x\"}},\"yaxis\":{\"anchor\":\"x\",\"domain\":[0.0,1.0],\"title\":{\"text\":\"y\"}},\"legend\":{\"tracegroupgap\":0},\"margin\":{\"t\":60}},                        {\"responsive\": true}                    ).then(function(){\n",
       "                            \n",
       "var gd = document.getElementById('c37e9a2d-5d28-47e9-9436-b6017ae76a92');\n",
       "var x = new MutationObserver(function (mutations, observer) {{\n",
       "        var display = window.getComputedStyle(gd).display;\n",
       "        if (!display || display === 'none') {{\n",
       "            console.log([gd, 'removed!']);\n",
       "            Plotly.purge(gd);\n",
       "            observer.disconnect();\n",
       "        }}\n",
       "}});\n",
       "\n",
       "// Listen for the removal of the full notebook cells\n",
       "var notebookContainer = gd.closest('#notebook-container');\n",
       "if (notebookContainer) {{\n",
       "    x.observe(notebookContainer, {childList: true});\n",
       "}}\n",
       "\n",
       "// Listen for the clearing of the current output cell\n",
       "var outputEl = gd.closest('.output');\n",
       "if (outputEl) {{\n",
       "    x.observe(outputEl, {childList: true});\n",
       "}}\n",
       "\n",
       "                        })                };                });            </script>        </div>"
      ]
     },
     "metadata": {},
     "output_type": "display_data"
    }
   ],
   "source": [
    "import plotly.express as px\n",
    "px.scatter(x = fpr, y = tpr)"
   ]
  },
  {
   "cell_type": "code",
   "execution_count": 64,
   "id": "63cbe74e",
   "metadata": {},
   "outputs": [],
   "source": [
    "y = 0.9770"
   ]
  },
  {
   "cell_type": "code",
   "execution_count": 65,
   "id": "a7828ee8",
   "metadata": {},
   "outputs": [
    {
     "data": {
      "text/plain": [
       "(array([44, 45, 46, 47, 48, 49, 50, 51], dtype=int64),)"
      ]
     },
     "execution_count": 65,
     "metadata": {},
     "output_type": "execute_result"
    }
   ],
   "source": [
    "tpr\n",
    "np.where(tpr> y)"
   ]
  },
  {
   "cell_type": "code",
   "execution_count": 66,
   "id": "0fa76047",
   "metadata": {},
   "outputs": [
    {
     "data": {
      "text/plain": [
       "0.9770992366412213"
      ]
     },
     "execution_count": 66,
     "metadata": {},
     "output_type": "execute_result"
    }
   ],
   "source": [
    "tpr[44]"
   ]
  },
  {
   "cell_type": "code",
   "execution_count": 67,
   "id": "94b14113",
   "metadata": {},
   "outputs": [
    {
     "data": {
      "text/plain": [
       "0.4636363636363636"
      ]
     },
     "execution_count": 67,
     "metadata": {},
     "output_type": "execute_result"
    }
   ],
   "source": [
    "fpr[44]"
   ]
  },
  {
   "cell_type": "code",
   "execution_count": 68,
   "id": "47a72202",
   "metadata": {
    "scrolled": true
   },
   "outputs": [
    {
     "data": {
      "text/plain": [
       "0.1312476355069212"
      ]
     },
     "execution_count": 68,
     "metadata": {},
     "output_type": "execute_result"
    }
   ],
   "source": [
    "thresh[44]"
   ]
  },
  {
   "cell_type": "code",
   "execution_count": null,
   "id": "6a486420",
   "metadata": {},
   "outputs": [],
   "source": [
    "NOTE:\n",
    ">> at 0.13 thresh we get best recall(tpr), so we use this thresh value"
   ]
  },
  {
   "cell_type": "code",
   "execution_count": null,
   "id": "be53f2ee",
   "metadata": {},
   "outputs": [],
   "source": []
  },
  {
   "cell_type": "markdown",
   "id": "e36545ba",
   "metadata": {},
   "source": [
    "### Evaluation Result"
   ]
  },
  {
   "cell_type": "code",
   "execution_count": null,
   "id": "b3a643ed",
   "metadata": {},
   "outputs": [],
   "source": [
    ">> Model is best model, as we get precision value 0.83 on training data set as well as 0.83 on \n",
    "  testing data set.\n",
    ">> So, model is low bias and low variance"
   ]
  },
  {
   "cell_type": "code",
   "execution_count": null,
   "id": "7e8f67f4",
   "metadata": {},
   "outputs": [],
   "source": []
  },
  {
   "cell_type": "markdown",
   "id": "c5291008",
   "metadata": {},
   "source": [
    "### Single row testing"
   ]
  },
  {
   "cell_type": "code",
   "execution_count": 69,
   "id": "e5cb9adb",
   "metadata": {},
   "outputs": [
    {
     "data": {
      "text/plain": [
       "0.009283068794147451"
      ]
     },
     "execution_count": 69,
     "metadata": {},
     "output_type": "execute_result"
    }
   ],
   "source": [
    "y_pred_train_prob[:,1][0]"
   ]
  },
  {
   "cell_type": "code",
   "execution_count": 70,
   "id": "10cc0ce2",
   "metadata": {},
   "outputs": [
    {
     "name": "stdout",
     "output_type": "stream",
     "text": [
      "Predicted prob is : 0.009283068794147451\n",
      "Predict the Patient has Heart Disease or not : The Patient does not have a Heart Disease\n"
     ]
    }
   ],
   "source": [
    "def get_pred_class(threshold, pred_prob):\n",
    "    print(\"Predicted prob is :\",pred_prob)\n",
    "    if pred_prob >= threshold:\n",
    "        return \"The Patient has Heart Disease\"\n",
    "    else:\n",
    "        return \"The Patient does not have a Heart Disease\"\n",
    "    \n",
    "threshold = thresh[44]    # 0.13\n",
    "\n",
    "pred_class = get_pred_class(threshold, y_pred_train_prob[:,1][0])\n",
    "print(\"Predict the Patient has Heart Disease or not :\",pred_class)"
   ]
  },
  {
   "cell_type": "code",
   "execution_count": 71,
   "id": "561744e3",
   "metadata": {},
   "outputs": [
    {
     "data": {
      "text/plain": [
       "array([0, 0, 1, 1, 1, 1, 0, 1, 1, 0, 1, 1, 1, 1, 1, 0, 1, 1, 1, 0, 1, 0,\n",
       "       0, 0, 0, 1, 1, 1, 1, 1, 1, 0, 1, 0, 1, 0, 1, 1, 1, 1, 1, 1, 1, 1,\n",
       "       0, 1, 1, 1, 1, 1, 1, 1, 1, 0, 0, 1, 1, 0, 1, 0, 1, 0, 1, 1, 1, 1,\n",
       "       0, 1, 0, 0, 0, 1, 0, 1, 0, 0, 1, 1, 1, 1, 1, 1, 1, 1, 1, 1, 1, 0,\n",
       "       1, 1, 1, 0, 1, 1, 0, 1, 1, 1, 1, 1, 1, 1, 0, 0, 0, 1, 0, 1, 0, 1,\n",
       "       0, 0, 1, 1, 0, 0, 0, 0, 1, 1, 1, 0, 1, 0, 0, 0, 0, 1, 1, 0, 0, 0,\n",
       "       1, 0, 1, 0, 1, 0, 0, 1, 1, 0, 1, 0, 1, 0, 0, 1, 0, 1, 1, 0, 0, 1,\n",
       "       1, 0, 1, 0, 1, 1, 1, 0, 1, 1, 1, 0, 1, 0, 1, 0, 1, 1, 1, 0, 1, 1,\n",
       "       0, 1, 1, 1, 0, 0, 1, 1, 0, 1, 1, 1, 1, 1, 0, 0, 1, 0, 1, 0, 0, 1,\n",
       "       0, 1, 0, 0, 1, 1, 1, 0, 1, 1, 1, 0, 1, 0, 0, 1, 0, 1, 1, 0, 1, 0,\n",
       "       0, 0, 0, 1, 0, 1, 1, 0, 0, 0, 0, 0, 0, 0, 1, 1, 1, 1, 1, 1, 1],\n",
       "      dtype=int64)"
      ]
     },
     "execution_count": 71,
     "metadata": {},
     "output_type": "execute_result"
    }
   ],
   "source": [
    "y_pred_train"
   ]
  },
  {
   "cell_type": "code",
   "execution_count": null,
   "id": "677e4739",
   "metadata": {},
   "outputs": [],
   "source": []
  },
  {
   "cell_type": "code",
   "execution_count": null,
   "id": "b5b21167",
   "metadata": {},
   "outputs": [],
   "source": []
  },
  {
   "cell_type": "markdown",
   "id": "e132077c",
   "metadata": {},
   "source": [
    "### For User"
   ]
  },
  {
   "cell_type": "code",
   "execution_count": 72,
   "id": "7df9b655",
   "metadata": {},
   "outputs": [
    {
     "data": {
      "text/plain": [
       "['age',\n",
       " 'sex',\n",
       " 'cp',\n",
       " 'trtbps',\n",
       " 'chol',\n",
       " 'fbs',\n",
       " 'restecg',\n",
       " 'thalachh',\n",
       " 'exng',\n",
       " 'oldpeak',\n",
       " 'slp',\n",
       " 'caa',\n",
       " 'thall']"
      ]
     },
     "execution_count": 72,
     "metadata": {},
     "output_type": "execute_result"
    }
   ],
   "source": [
    "column_names = x.columns.tolist()\n",
    "column_names"
   ]
  },
  {
   "cell_type": "code",
   "execution_count": null,
   "id": "8c76038a",
   "metadata": {},
   "outputs": [],
   "source": []
  },
  {
   "cell_type": "code",
   "execution_count": 73,
   "id": "f1d1a893",
   "metadata": {},
   "outputs": [
    {
     "name": "stdout",
     "output_type": "stream",
     "text": [
      "Predicted prob is : 0.6999030100464122\n",
      "Predict the Patient has Heart Disease or not : The Patient has Heart Disease\n"
     ]
    }
   ],
   "source": [
    "age = 37\n",
    "sex = 1\n",
    "cp = 2\n",
    "trtbps = 130\n",
    "chol = 250\n",
    "fbs = 0\n",
    "restecg = 1\n",
    "thalachh = 187\n",
    "exng = 0\n",
    "oldpeak = 3.5\n",
    "slp = 0\n",
    "caa = 0\n",
    "thall = 2\n",
    "\n",
    "\n",
    "def get_pred_class(threshold, pred_prob):\n",
    "    print(\"Predicted prob is :\",pred_prob)\n",
    "    if pred_prob >= threshold:\n",
    "        return \"The Patient has Heart Disease\"\n",
    "    else:\n",
    "        return \"The Patient does not have a Heart Disease\"\n",
    "    \n",
    "threshold = thresh[44]    # 0.13\n",
    "\n",
    "test_array = np.array([age, sex, cp, trtbps, chol, fbs, restecg, thalachh, exng, \n",
    "                       oldpeak, slp, caa, thall], ndmin = 2)\n",
    "\n",
    "pred_prob = logistic_clf.predict_proba(test_array)[0,1]\n",
    "\n",
    "pred_class = get_pred_class(threshold, pred_prob)\n",
    "print(\"Predict the Patient has Heart Disease or not :\",pred_class)"
   ]
  },
  {
   "cell_type": "code",
   "execution_count": null,
   "id": "47780a10",
   "metadata": {},
   "outputs": [],
   "source": []
  },
  {
   "cell_type": "code",
   "execution_count": 74,
   "id": "a9de73f4",
   "metadata": {},
   "outputs": [],
   "source": [
    "import pickle \n",
    "\n",
    "with open('Heart_Disease.pkl','wb') as f:\n",
    "    pickle.dump(logistic_clf, f)"
   ]
  }
 ],
 "metadata": {
  "kernelspec": {
   "display_name": "Python 3 (ipykernel)",
   "language": "python",
   "name": "python3"
  },
  "language_info": {
   "codemirror_mode": {
    "name": "ipython",
    "version": 3
   },
   "file_extension": ".py",
   "mimetype": "text/x-python",
   "name": "python",
   "nbconvert_exporter": "python",
   "pygments_lexer": "ipython3",
   "version": "3.9.13"
  }
 },
 "nbformat": 4,
 "nbformat_minor": 5
}
